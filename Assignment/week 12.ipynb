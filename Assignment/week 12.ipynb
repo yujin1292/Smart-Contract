{
 "cells": [
  {
   "cell_type": "markdown",
   "metadata": {},
   "source": [
    "# week 12\n",
    "## 201710957 comp. sci. 이유진"
   ]
  },
  {
   "cell_type": "markdown",
   "metadata": {},
   "source": [
    "## 연습문제 Multiply7\n",
    "\n",
    "\n",
    "\n",
    "앞서 Multiply7을 구현해 보았다.\n",
    "\n",
    "이 컨트랙에 이벤트를 추가해서 구현해보자.\n",
    "\n",
    "geth 또는 ganache 가운데 어느 것이나 선택해서 실행해도 좋다.\n",
    "\n",
    "아래 주어진 미완성 코드를 구현해서 노드에서 이벤트를 띄워보자.\n",
    "\n",
    "\n",
    "\n",
    "* 함수는 param4인자를 받아서 곱하기 7 연산을 한다. 8과 16의 연산을 실행하자. 그 결과는 56과 112가 출력될 것이다.\n",
    "\n",
    "* 이벤트로 넘겨주는 매개변수 param1은 누가 이 함수를 호출했는지 (address), param2는 언제 호출되었는지 (timestamp), 마지막으로 param3는 연산결과를 출력하도록 한다.\n",
    "\n",
    "\n",
    "\n",
    "* 미완성 코드\n",
    "\n",
    "contract Multiply7Event {\n",
    "\n",
    "    event Print(param1, param2, param3);\n",
    "\n",
    "    function multiply(param4)"
   ]
  },
  {
   "cell_type": "markdown",
   "metadata": {},
   "source": [
    "## 1) Solidity 코딩"
   ]
  },
  {
   "cell_type": "code",
   "execution_count": 5,
   "metadata": {
    "scrolled": true
   },
   "outputs": [
    {
     "name": "stdout",
     "output_type": "stream",
     "text": [
      "Overwriting C:\\Users\\sofod\\Code\\201710957\\src\\Multiply7Event.sol\n"
     ]
    }
   ],
   "source": [
    "%%writefile C:\\Users\\sofod\\Code\\201710957\\src\\Multiply7Event.sol\n",
    "\n",
    "pragma solidity ^0.5.0;\n",
    "\n",
    "contract Multiply7Event{\n",
    "    \n",
    "    event Print(address param1, uint256 param2, int param3); //address , timestamp , result\n",
    "    function multiply(int param4) public {\n",
    "        uint256 time = now;\n",
    "        emit Print( msg.sender , time , param4*7 );\n",
    "    }\n",
    "\n",
    "}\n",
    "\n"
   ]
  },
  {
   "cell_type": "markdown",
   "metadata": {},
   "source": [
    "## 2) Solc를 이용하여 컴파일"
   ]
  },
  {
   "cell_type": "code",
   "execution_count": 6,
   "metadata": {
    "scrolled": true
   },
   "outputs": [
    {
     "name": "stdout",
     "output_type": "stream",
     "text": [
      "solc, the solidity compiler commandline interface\n",
      "Version: 0.5.0+commit.1d4f565a.Windows.msvc\n"
     ]
    }
   ],
   "source": [
    "!solc --version"
   ]
  },
  {
   "cell_type": "code",
   "execution_count": 7,
   "metadata": {},
   "outputs": [
    {
     "name": "stdout",
     "output_type": "stream",
     "text": [
      "\n",
      "======= C:/Users/sofod/Code/201710957/src/Multiply7Event.sol:Multiply7Event =======\n",
      "Gas estimation:\n",
      "construction:\n",
      "   111 + 58800 = 58911\n",
      "external:\n",
      "   multiply(int256):\t1873\n",
      "Binary: \n",
      "608060405234801561001057600080fd5b50610126806100206000396000f3fe608060405260043610603f576000357c0100000000000000000000000000000000000000000000000000000000900463ffffffff1680631df4f144146044575b600080fd5b348015604f57600080fd5b50607960048036036020811015606457600080fd5b8101908080359060200190929190505050607b565b005b60004290507fa92f692a293b11ac3b95d5b214060a091e2f54ae144416454e9232d7c0be6a44338260078502604051808473ffffffffffffffffffffffffffffffffffffffff1673ffffffffffffffffffffffffffffffffffffffff168152602001838152602001828152602001935050505060405180910390a1505056fea165627a7a723058203c97390970f0d1a74a6258e9bee4dc6da8fd38dee74d91ff30229d5ddc067ebe0029\n",
      "Contract JSON ABI \n",
      "[{\"constant\":false,\"inputs\":[{\"name\":\"param4\",\"type\":\"int256\"}],\"name\":\"multiply\",\"outputs\":[],\"payable\":false,\"stateMutability\":\"nonpayable\",\"type\":\"function\"},{\"anonymous\":false,\"inputs\":[{\"indexed\":false,\"name\":\"param1\",\"type\":\"address\"},{\"indexed\":false,\"name\":\"param2\",\"type\":\"uint256\"},{\"indexed\":false,\"name\":\"param3\",\"type\":\"int256\"}],\"name\":\"Print\",\"type\":\"event\"}]\n"
     ]
    }
   ],
   "source": [
    "!solc --abi --bin --gas C:\\Users\\sofod\\Code\\201710957\\src\\Multiply7Event.sol"
   ]
  },
  {
   "cell_type": "markdown",
   "metadata": {},
   "source": [
    "## 3) node 를 이용한 배포 (ganache 사용)"
   ]
  },
  {
   "cell_type": "code",
   "execution_count": 4,
   "metadata": {},
   "outputs": [
    {
     "name": "stdout",
     "output_type": "stream",
     "text": [
      "Overwriting C:\\Users\\sofod\\Code\\201710957\\src\\Multiply7Event_deploy.js\n"
     ]
    }
   ],
   "source": [
    "%%writefile C:\\Users\\sofod\\Code\\201710957\\src\\Multiply7Event_deploy.js\n",
    "var Web3=require('web3');\n",
    "var web3 = new Web3(new Web3.providers.HttpProvider(\"http://localhost:8345\"));\n",
    "\n",
    "var _abiArray=[{\"constant\":false,\"inputs\":[{\"name\":\"param4\",\"type\":\"int256\"}],\"name\":\"multiply\",\"outputs\":[],\"payable\":false,\"stateMutability\":\"nonpayable\",\"type\":\"function\"},{\"anonymous\":false,\"inputs\":[{\"indexed\":false,\"name\":\"param1\",\"type\":\"address\"},{\"indexed\":false,\"name\":\"param2\",\"type\":\"uint256\"},{\"indexed\":false,\"name\":\"param3\",\"type\":\"int256\"}],\"name\":\"Print\",\"type\":\"event\"}];\n",
    "var _bin=\"0x\"+\"608060405234801561001057600080fd5b50610126806100206000396000f3fe608060405260043610603f576000357c0100000000000000000000000000000000000000000000000000000000900463ffffffff1680631df4f144146044575b600080fd5b348015604f57600080fd5b50607960048036036020811015606457600080fd5b8101908080359060200190929190505050607b565b005b60004290507fa92f692a293b11ac3b95d5b214060a091e2f54ae144416454e9232d7c0be6a44338260078502604051808473ffffffffffffffffffffffffffffffffffffffff1673ffffffffffffffffffffffffffffffffffffffff168152602001838152602001828152602001935050505060405180910390a1505056fea165627a7a723058203c97390970f0d1a74a6258e9bee4dc6da8fd38dee74d91ff30229d5ddc067ebe0029\";\n",
    "\n",
    "var mulContract = new web3.eth.Contract(_abiArray);\n",
    "mulContract\n",
    "    .deploy({\n",
    "            data: _bin\n",
    "    })\n",
    "    .send({\n",
    "     from: \"0xBD32Eb1946eaeb4D6637b1EC4fae7B9E38a58060\",\n",
    "     gas: '1000000'\n",
    "    }, function (error, transactionHash){ \n",
    "            console.log(\"error :\" + error);\n",
    "            console.log(\"hash : \" + transactionHash); \n",
    "    })\n",
    "    .then(function(newContractInstance){\n",
    "        console.log(\"address : \" + newContractInstance.options.address)\n",
    "    });"
   ]
  },
  {
   "cell_type": "code",
   "execution_count": 5,
   "metadata": {
    "scrolled": false
   },
   "outputs": [
    {
     "name": "stdout",
     "output_type": "stream",
     "text": [
      "error :null\n",
      "hash : 0x457ef053e1aa7fd11449a7574d83a7b4f11092b560470da7541a038f714ec198\n",
      "address : 0xd558Bf1F725f6526Dab444931C3a642d36eC7081\n"
     ]
    }
   ],
   "source": [
    "!node C:\\Users\\sofod\\Code\\201710957\\src\\Multiply7Event_deploy.js"
   ]
  },
  {
   "cell_type": "markdown",
   "metadata": {},
   "source": [
    "## 4) 사용\n",
    "\n",
    "### async 방식을 이용하여 event를 출력하였다."
   ]
  },
  {
   "cell_type": "code",
   "execution_count": 1,
   "metadata": {},
   "outputs": [
    {
     "name": "stdout",
     "output_type": "stream",
     "text": [
      "Overwriting C:\\Users\\sofod\\Code\\201710957\\src\\Multiply7Event_use.js\n"
     ]
    }
   ],
   "source": [
    "%%writefile C:\\Users\\sofod\\Code\\201710957\\src\\Multiply7Event_use.js\n",
    "\n",
    "var Web3=require('web3');\n",
    "var web3 = new Web3(new Web3.providers.WebsocketProvider(\"http://localhost:8345\"));\n",
    "\n",
    "var _abiArray=[{\"constant\":false,\"inputs\":[{\"name\":\"param4\",\"type\":\"int256\"}],\"name\":\"multiply\",\"outputs\":[],\"payable\":false,\"stateMutability\":\"nonpayable\",\"type\":\"function\"},{\"anonymous\":false,\"inputs\":[{\"indexed\":false,\"name\":\"param1\",\"type\":\"address\"},{\"indexed\":false,\"name\":\"param2\",\"type\":\"uint256\"},{\"indexed\":false,\"name\":\"param3\",\"type\":\"int256\"}],\"name\":\"Print\",\"type\":\"event\"}];\n",
    "var _bin=\"0x\"+\"608060405234801561001057600080fd5b50610126806100206000396000f3fe608060405260043610603f576000357c0100000000000000000000000000000000000000000000000000000000900463ffffffff1680631df4f144146044575b600080fd5b348015604f57600080fd5b50607960048036036020811015606457600080fd5b8101908080359060200190929190505050607b565b005b60004290507fa92f692a293b11ac3b95d5b214060a091e2f54ae144416454e9232d7c0be6a44338260078502604051808473ffffffffffffffffffffffffffffffffffffffff1673ffffffffffffffffffffffffffffffffffffffff168152602001838152602001828152602001935050505060405180910390a1505056fea165627a7a723058203c97390970f0d1a74a6258e9bee4dc6da8fd38dee74d91ff30229d5ddc067ebe0029\";\n",
    "\n",
    "var _test = new web3.eth.Contract(_abiArray, '0xd558Bf1F725f6526Dab444931C3a642d36eC7081');\n",
    "\n",
    "async function doIt(a) {\n",
    "    const accounts = await web3.eth.getAccounts();\n",
    "    const value = await _test.methods.multiply(a).send({from: accounts[0]});\n",
    " \n",
    "    console.log('\\n\\n\\nfunction doit('+ a +\")\\nparam1 : addr = \"+ JSON.stringify(value.events.Print.returnValues[0])\n",
    "              +\"\\nparam2 : timestamp = \" +JSON.stringify(value.events.Print.returnValues[1])\n",
    "           +\"\\nparam3 : result = \"    +JSON.stringify(value.events.Print.returnValues[2])\n",
    "               \n",
    "               );\n",
    "    }\n",
    "\n",
    "doIt(8)\n",
    "doIt(16)"
   ]
  },
  {
   "cell_type": "code",
   "execution_count": null,
   "metadata": {},
   "outputs": [],
   "source": [
    "!node C:\\Users\\sofod\\Code\\201710957\\src\\Multiply7Event_use.js"
   ]
  },
  {
   "cell_type": "markdown",
   "metadata": {},
   "source": []
  }
 ],
 "metadata": {
  "kernelspec": {
   "display_name": "Python 3",
   "language": "python",
   "name": "python3"
  },
  "language_info": {
   "codemirror_mode": {
    "name": "ipython",
    "version": 3
   },
   "file_extension": ".py",
   "mimetype": "text/x-python",
   "name": "python",
   "nbconvert_exporter": "python",
   "pygments_lexer": "ipython3",
   "version": "3.7.1"
  }
 },
 "nbformat": 4,
 "nbformat_minor": 2
}
