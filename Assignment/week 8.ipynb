{
 "cells": [
  {
   "cell_type": "markdown",
   "metadata": {},
   "source": [
    "# week 8  과제\n",
    "## 컴퓨터 과학과 201710957 이유진"
   ]
  },
  {
   "cell_type": "markdown",
   "metadata": {},
   "source": [
    "## 연습문제\n",
    "\n",
    "\n",
    "\n",
    "```greeter```의 ```greeting```의 데이터타입을 ```string```에서 ```bytes32```로 변경하세요.\n",
    "\n",
    "- ```string```에서 ```bytes32```로 변경하면 gas의 차이가 있는지 확인\n",
    "\n",
    "- 노드에서 배포\n",
    "\n",
    "- 노드에서 인사를 설정하고 ```setGreeting(\"Hello World!\")```, ```greet()```을 출력하세요.\n",
    "\n"
   ]
  },
  {
   "cell_type": "markdown",
   "metadata": {},
   "source": [
    "## 1) Solidity 코딩"
   ]
  },
  {
   "cell_type": "code",
   "execution_count": 1,
   "metadata": {},
   "outputs": [
    {
     "name": "stdout",
     "output_type": "stream",
     "text": [
      "Writing C:\\Users\\sofod\\Code\\201710957\\src\\greeter.sol\n"
     ]
    }
   ],
   "source": [
    "%%writefile C:\\Users\\sofod\\Code\\201710957\\src\\greeter.sol\n",
    "pragma solidity ^0.4.0;\n",
    "\n",
    "contract Gretter {\n",
    "    string greeting;\n",
    "    \n",
    "    constructor() public {\n",
    "        greeting = 'Hello';\n",
    "    }\n",
    "    \n",
    "    function setGreeting( string memory _greeeting) public {\n",
    "        greeting = _greeeting;\n",
    "    }\n",
    "    \n",
    "    function greet() view public returns (string memory){\n",
    "        return greeting;\n",
    "    }\n",
    "}"
   ]
  },
  {
   "cell_type": "code",
   "execution_count": 126,
   "metadata": {},
   "outputs": [
    {
     "name": "stdout",
     "output_type": "stream",
     "text": [
      "Overwriting C:\\Users\\sofod\\Code\\201710957\\src\\greeter2.sol\n"
     ]
    }
   ],
   "source": [
    "%%writefile C:\\Users\\sofod\\Code\\201710957\\src\\greeter2.sol\n",
    "pragma solidity ^0.4.0;\n",
    "contract Gretter2 {\n",
    "    bytes32 greeting;\n",
    "    \n",
    "    constructor() public {\n",
    "        greeting = 'Hello';\n",
    "    }\n",
    "    \n",
    "    function setGreeting( bytes32  _greeeting) public {\n",
    "        greeting = _greeeting;\n",
    "    }\n",
    "    \n",
    "    function greet() view public returns (bytes32 ){\n",
    "        return greeting;\n",
    "    }\n",
    "}"
   ]
  },
  {
   "cell_type": "markdown",
   "metadata": {},
   "source": [
    "## 2) Solc를 이용하여 컴파일"
   ]
  },
  {
   "cell_type": "code",
   "execution_count": 127,
   "metadata": {},
   "outputs": [
    {
     "name": "stdout",
     "output_type": "stream",
     "text": [
      "\n",
      "======= C:\\Users\\sofod\\Code\\201710957\\src\\greeter2.sol:Gretter2 =======\n",
      "Binary: \n",
      "608060405234801561001057600080fd5b507f48656c6c6f0000000000000000000000000000000000000000000000000000006000816000191690555060ef8061004a6000396000f3006080604052600436106049576000357c0100000000000000000000000000000000000000000000000000000000900463ffffffff16806350513b4f14604e578063cfae321714607c575b600080fd5b348015605957600080fd5b50607a600480360381019080803560001916906020019092919050505060ac565b005b348015608757600080fd5b50608e60ba565b60405180826000191660001916815260200191505060405180910390f35b806000816000191690555050565b600080549050905600a165627a7a7230582083295188cd0d51d9beb9d50e027b8b4c1814fad34c9d1d8885378dcc17e5f6b60029\n",
      "Contract JSON ABI \n",
      "[{\"constant\":false,\"inputs\":[{\"name\":\"_greeeting\",\"type\":\"bytes32\"}],\"name\":\"setGreeting\",\"outputs\":[],\"payable\":false,\"stateMutability\":\"nonpayable\",\"type\":\"function\"},{\"constant\":true,\"inputs\":[],\"name\":\"greet\",\"outputs\":[{\"name\":\"\",\"type\":\"bytes32\"}],\"payable\":false,\"stateMutability\":\"view\",\"type\":\"function\"},{\"inputs\":[],\"payable\":false,\"stateMutability\":\"nonpayable\",\"type\":\"constructor\"}]\n"
     ]
    }
   ],
   "source": [
    "!solc --abi --bin  C:\\Users\\sofod\\Code\\201710957\\src\\greeter2.sol"
   ]
  },
  {
   "cell_type": "markdown",
   "metadata": {},
   "source": [
    "### gas 차이 확인"
   ]
  },
  {
   "cell_type": "code",
   "execution_count": 128,
   "metadata": {},
   "outputs": [
    {
     "name": "stdout",
     "output_type": "stream",
     "text": [
      "\n",
      "======= C:\\Users\\sofod\\Code\\201710957\\src\\greeter2.sol:Gretter2 =======\n",
      "Gas estimation:\n",
      "construction:\n",
      "   20122 + 47800 = 67922\n",
      "external:\n",
      "   greet():\t442\n",
      "   setGreeting(bytes32):\t20223\n"
     ]
    }
   ],
   "source": [
    "!solc --gas C:\\Users\\sofod\\Code\\201710957\\src\\greeter2.sol"
   ]
  },
  {
   "cell_type": "code",
   "execution_count": 129,
   "metadata": {},
   "outputs": [
    {
     "name": "stdout",
     "output_type": "stream",
     "text": [
      "\n",
      "======= C:\\Users\\sofod\\Code\\201710957\\src\\greeter.sol:Gretter =======\n",
      "Gas estimation:\n",
      "construction:\n",
      "   infinite + 145400 = infinite\n",
      "external:\n",
      "   greet():\tinfinite\n",
      "   setGreeting(string):\tinfinite\n"
     ]
    }
   ],
   "source": [
    "!solc --gas C:\\Users\\sofod\\Code\\201710957\\src\\greeter.sol"
   ]
  },
  {
   "cell_type": "markdown",
   "metadata": {},
   "source": [
    "string을 사용하였을때는 infinite로 산정불가능이었으나 bytes32로 변경하였을때 글자수가 제한되어 gas비가 산정되어있음을 알수있다. "
   ]
  },
  {
   "cell_type": "markdown",
   "metadata": {},
   "source": [
    "## 3) node 를 이용한 배포"
   ]
  },
  {
   "cell_type": "code",
   "execution_count": 6,
   "metadata": {},
   "outputs": [
    {
     "name": "stdout",
     "output_type": "stream",
     "text": [
      "\"0x478e5deacb2c8b60452f7d9822e50643bb78c1d3\"\n"
     ]
    }
   ],
   "source": [
    "!geth --exec \"eth.coinbase\" attach http://localhost:8445"
   ]
  },
  {
   "cell_type": "code",
   "execution_count": 7,
   "metadata": {},
   "outputs": [
    {
     "name": "stdout",
     "output_type": "stream",
     "text": [
      "Overwriting C:\\Users\\sofod\\Code\\201710957\\src\\greeting_deploy.js\n"
     ]
    }
   ],
   "source": [
    "%%writefile C:\\Users\\sofod\\Code\\201710957\\src\\greeting_deploy.js\n",
    "var Web3=require('web3');\n",
    "var web3 = new Web3(new Web3.providers.HttpProvider(\"http://localhost:8445\"));\n",
    "var shelloContract = new web3.eth.Contract([{\"constant\":false,\"inputs\":[{\"name\":\"_greeeting\",\"type\":\"bytes32\"}],\"name\":\"setGreeting\",\"outputs\":[],\"payable\":false,\"stateMutability\":\"nonpayable\",\"type\":\"function\"},{\"constant\":true,\"inputs\":[],\"name\":\"greet\",\"outputs\":[{\"name\":\"\",\"type\":\"bytes32\"}],\"payable\":false,\"stateMutability\":\"view\",\"type\":\"function\"},{\"inputs\":[],\"payable\":false,\"stateMutability\":\"nonpayable\",\"type\":\"constructor\"}]);\n",
    "shelloContract\n",
    "    .deploy({\n",
    "            data: '0x608060405234801561001057600080fd5b507f48656c6c6f0000000000000000000000000000000000000000000000000000006000816000191690555060ef8061004a6000396000f3006080604052600436106049576000357c0100000000000000000000000000000000000000000000000000000000900463ffffffff16806350513b4f14604e578063cfae321714607c575b600080fd5b348015605957600080fd5b50607a600480360381019080803560001916906020019092919050505060ac565b005b348015608757600080fd5b50608e60ba565b60405180826000191660001916815260200191505060405180910390f35b806000816000191690555050565b600080549050905600a165627a7a7230582083295188cd0d51d9beb9d50e027b8b4c1814fad34c9d1d8885378dcc17e5f6b60029', \n",
    "    })\n",
    "    .send({\n",
    "     from: \"0x478e5deacb2c8b60452f7d9822e50643bb78c1d3\",\n",
    "     gas: '4700000'\n",
    "    }, function (error, transactionHash){ \n",
    "            console.log(\"error :\" + error);\n",
    "            console.log(\"hash : \" + transactionHash); \n",
    "    })\n",
    "    .then(function(newContractInstance){\n",
    "        console.log(\"address : \" + newContractInstance.options.address)\n",
    "    });"
   ]
  },
  {
   "cell_type": "code",
   "execution_count": 8,
   "metadata": {},
   "outputs": [
    {
     "name": "stdout",
     "output_type": "stream",
     "text": [
      "error :null\n",
      "hash : 0x8fe25653dc036f7c8aaea9764931eb4e26a0e20c01dd1f9c44155cbf25969d53\n",
      "address : 0xFb97a0c88e78D0a2D37079c7F4A141246657AeEb\n"
     ]
    }
   ],
   "source": [
    "!node C:\\Users\\sofod\\Code\\201710957\\src\\greeting_deploy.js"
   ]
  },
  {
   "cell_type": "markdown",
   "metadata": {},
   "source": [
    "## 4) API 사용 contractAddress 호출하여 사용"
   ]
  },
  {
   "cell_type": "code",
   "execution_count": 9,
   "metadata": {},
   "outputs": [
    {
     "name": "stdout",
     "output_type": "stream",
     "text": [
      "Overwriting C:\\Users\\sofod\\Code\\201710957\\src\\greeterUse.js\n"
     ]
    }
   ],
   "source": [
    "%%writefile C:\\Users\\sofod\\Code\\201710957\\src\\greeterUse.js\n",
    "var Web3=require('web3');\n",
    "var web3 = new Web3(new Web3.providers.HttpProvider(\"http://localhost:8445\"));\n",
    "var _abiArray=[{\"constant\":false,\"inputs\":[{\"name\":\"_greeeting\",\"type\":\"bytes32\"}],\"name\":\"setGreeting\",\"outputs\":[],\"payable\":false,\"stateMutability\":\"nonpayable\",\"type\":\"function\"},{\"constant\":true,\"inputs\":[],\"name\":\"greet\",\"outputs\":[{\"name\":\"\",\"type\":\"bytes32\"}],\"payable\":false,\"stateMutability\":\"view\",\"type\":\"function\"},{\"inputs\":[],\"payable\":false,\"stateMutability\":\"nonpayable\",\"type\":\"constructor\"}];\n",
    "var greeter = new web3.eth.Contract(_abiArray,\"0xFb97a0c88e78D0a2D37079c7F4A141246657AeEb\");\n",
    "\n",
    "greeter.methods.greet().call().then(function(value) {console.log(web3.utils.toAscii(value));});\n",
    "\n",
    "var txt = web3.utils.fromAscii(\"Hello World\");\n",
    "greeter.methods.setGreeting(txt).send({from:\"0x478e5deacb2c8b60452f7d9822e50643bb78c1d3\",gas:100000});\n",
    "greeter.methods.greet().call().then(function(value) {console.log(web3.utils.toAscii(value));});\n",
    "\n"
   ]
  },
  {
   "cell_type": "code",
   "execution_count": 10,
   "metadata": {},
   "outputs": [
    {
     "name": "stdout",
     "output_type": "stream",
     "text": [
      "Hello\u0000\u0000\u0000\u0000\u0000\u0000\u0000\u0000\u0000\u0000\u0000\u0000\u0000\u0000\u0000\u0000\u0000\u0000\u0000\u0000\u0000\u0000\u0000\u0000\u0000\u0000\u0000\n",
      "Hello\u0000\u0000\u0000\u0000\u0000\u0000\u0000\u0000\u0000\u0000\u0000\u0000\u0000\u0000\u0000\u0000\u0000\u0000\u0000\u0000\u0000\u0000\u0000\u0000\u0000\u0000\u0000\n"
     ]
    }
   ],
   "source": [
    "!node C:\\Users\\sofod\\Code\\201710957\\src\\greeterUse.js"
   ]
  },
  {
   "cell_type": "code",
   "execution_count": 11,
   "metadata": {},
   "outputs": [
    {
     "name": "stdout",
     "output_type": "stream",
     "text": [
      "Hello World\u0000\u0000\u0000\u0000\u0000\u0000\u0000\u0000\u0000\u0000\u0000\u0000\u0000\u0000\u0000\u0000\u0000\u0000\u0000\u0000\u0000\n",
      "Hello World\u0000\u0000\u0000\u0000\u0000\u0000\u0000\u0000\u0000\u0000\u0000\u0000\u0000\u0000\u0000\u0000\u0000\u0000\u0000\u0000\u0000\n"
     ]
    }
   ],
   "source": [
    "!node C:\\Users\\sofod\\Code\\201710957\\src\\greeterUse.js"
   ]
  },
  {
   "cell_type": "markdown",
   "metadata": {},
   "source": [
    "async 한 특성 때문에, 한번더 실행했을경우에 Hello World 로 변경되어 출력됨을 알수 있다,"
   ]
  },
  {
   "cell_type": "code",
   "execution_count": null,
   "metadata": {},
   "outputs": [],
   "source": []
  },
  {
   "cell_type": "markdown",
   "metadata": {},
   "source": [
    "# 연습문제\n",
    "\n",
    "어떤 수에 7을 곱하는 스마트 컨트랙을 만든다.\n",
    "\n",
    "컨트랙은 ```Multiply7```, 함수는:\n",
    "\n",
    "function multiply(uint input) public pure returns (uint)\n",
    "\n",
    "컨트랙은 Solidity로, 클라이언트는 노드로 프로그램한다.\n",
    "\n",
    "- 8을 인자로 너기면, 7을 곱해서 56을 출력하세요."
   ]
  },
  {
   "cell_type": "markdown",
   "metadata": {},
   "source": [
    "## 1) Solidity 코딩"
   ]
  },
  {
   "cell_type": "code",
   "execution_count": 81,
   "metadata": {},
   "outputs": [
    {
     "name": "stdout",
     "output_type": "stream",
     "text": [
      "Overwriting C:\\Users\\sofod\\Code\\201710957\\src\\Multiply.sol\n"
     ]
    }
   ],
   "source": [
    "%%writefile C:\\Users\\sofod\\Code\\201710957\\src\\Multiply.sol\n",
    "pragma solidity ^0.4.0;\n",
    "\n",
    "contract Multiply7{\n",
    "    function multiply(uint input) public pure returns (uint){\n",
    "        uint num = input * 7;\n",
    "        return num;\n",
    "    }\n",
    "   \n",
    "}"
   ]
  },
  {
   "cell_type": "markdown",
   "metadata": {},
   "source": [
    "## 2) Solc를 이용하여 컴파일"
   ]
  },
  {
   "cell_type": "code",
   "execution_count": 82,
   "metadata": {},
   "outputs": [
    {
     "name": "stdout",
     "output_type": "stream",
     "text": [
      "\n",
      "======= C:\\Users\\sofod\\Code\\201710957\\src\\Multiply.sol:Multiply7 =======\n",
      "Contract JSON ABI \n",
      "[{\"constant\":true,\"inputs\":[{\"name\":\"input\",\"type\":\"uint256\"}],\"name\":\"multiply\",\"outputs\":[{\"name\":\"\",\"type\":\"uint256\"}],\"payable\":false,\"stateMutability\":\"pure\",\"type\":\"function\"}]\n"
     ]
    }
   ],
   "source": [
    "!solc --abi  C:\\Users\\sofod\\Code\\201710957\\src\\Multiply.sol"
   ]
  },
  {
   "cell_type": "code",
   "execution_count": 83,
   "metadata": {},
   "outputs": [
    {
     "name": "stdout",
     "output_type": "stream",
     "text": [
      "\n",
      "======= C:\\Users\\sofod\\Code\\201710957\\src\\Multiply.sol:Multiply7 =======\n",
      "Binary: \n",
      "608060405234801561001057600080fd5b5060c08061001f6000396000f300608060405260043610603f576000357c0100000000000000000000000000000000000000000000000000000000900463ffffffff168063c6888fa1146044575b600080fd5b348015604f57600080fd5b50606c600480360381019080803590602001909291905050506082565b6040518082815260200191505060405180910390f35b600080600783029050809150509190505600a165627a7a72305820fc0360d2e7d5742c067e77981d7b4f8951eaa1ec6256566c444ac33d53b630090029\n"
     ]
    }
   ],
   "source": [
    "!solc --bin  C:\\Users\\sofod\\Code\\201710957\\src\\Multiply.sol"
   ]
  },
  {
   "cell_type": "markdown",
   "metadata": {},
   "source": [
    "## 3) node 를 이용한 배포"
   ]
  },
  {
   "cell_type": "code",
   "execution_count": 12,
   "metadata": {},
   "outputs": [
    {
     "name": "stdout",
     "output_type": "stream",
     "text": [
      "\"0x478e5deacb2c8b60452f7d9822e50643bb78c1d3\"\n"
     ]
    }
   ],
   "source": [
    "!geth --exec \"eth.coinbase\" attach http://localhost:8445"
   ]
  },
  {
   "cell_type": "code",
   "execution_count": 13,
   "metadata": {},
   "outputs": [
    {
     "name": "stdout",
     "output_type": "stream",
     "text": [
      "Overwriting C:\\Users\\sofod\\Code\\201710957\\src\\multiply_deploy.js\n"
     ]
    }
   ],
   "source": [
    "%%writefile C:\\Users\\sofod\\Code\\201710957\\src\\multiply_deploy.js\n",
    "var Web3=require('web3');\n",
    "var web3 = new Web3(new Web3.providers.HttpProvider(\"http://localhost:8445\"));\n",
    "var shelloContract = new web3.eth.Contract(\n",
    "[{\"constant\":true,\"inputs\":[{\"name\":\"input\",\"type\":\"uint256\"}],\"name\":\"multiply\",\"outputs\":[{\"name\":\"\",\"type\":\"uint256\"}],\"payable\":false,\"stateMutability\":\"pure\",\"type\":\"function\"}]\n",
    ");\n",
    "\n",
    "shelloContract\n",
    "    .deploy({\n",
    "            data: '0x608060405234801561001057600080fd5b5060c08061001f6000396000f300608060405260043610603f576000357c0100000000000000000000000000000000000000000000000000000000900463ffffffff168063c6888fa1146044575b600080fd5b348015604f57600080fd5b50606c600480360381019080803590602001909291905050506082565b6040518082815260200191505060405180910390f35b600080600783029050809150509190505600a165627a7a72305820fc0360d2e7d5742c067e77981d7b4f8951eaa1ec6256566c444ac33d53b630090029', \n",
    "    })\n",
    "    .send({\n",
    "     from: \"0x478e5deacb2c8b60452f7d9822e50643bb78c1d3\",\n",
    "     gas: '4700000'\n",
    "    }, function (error, transactionHash){ \n",
    "            console.log(\"error :\" + error);\n",
    "            console.log(\"hash : \" + transactionHash); \n",
    "    })\n",
    "    .then(function(newContractInstance){\n",
    "        console.log(\"address : \" + newContractInstance.options.address)\n",
    "    });"
   ]
  },
  {
   "cell_type": "code",
   "execution_count": 14,
   "metadata": {},
   "outputs": [
    {
     "name": "stdout",
     "output_type": "stream",
     "text": [
      "error :null\n",
      "hash : 0x55bf65bcc75a22ca61620d4a01cc533c2d40314a2c203f5242889ce0eeeea38d\n",
      "address : 0x303B2Ec2dB3105C332C2A802DB0ecb9b5370eC92\n"
     ]
    }
   ],
   "source": [
    "!node C:\\Users\\sofod\\Code\\201710957\\src\\multiply_deploy.js"
   ]
  },
  {
   "cell_type": "markdown",
   "metadata": {},
   "source": [
    "## 4) API 사용 contractAddress 호출하여 사용"
   ]
  },
  {
   "cell_type": "code",
   "execution_count": 17,
   "metadata": {},
   "outputs": [
    {
     "name": "stdout",
     "output_type": "stream",
     "text": [
      "Overwriting C:\\Users\\sofod\\Code\\201710957\\src\\multiplyUse.js\n"
     ]
    }
   ],
   "source": [
    "%%writefile C:\\Users\\sofod\\Code\\201710957\\src\\multiplyUse.js\n",
    "var Web3=require('web3');\n",
    "var web3 = new Web3(new Web3.providers.HttpProvider(\"http://localhost:8445\"));\n",
    "var _abiArray=[{\"constant\":true,\"inputs\":[{\"name\":\"input\",\"type\":\"uint256\"}],\"name\":\"multiply\",\"outputs\":[{\"name\":\"\",\"type\":\"uint256\"}],\"payable\":false,\"stateMutability\":\"pure\",\"type\":\"function\"}];\n",
    "var multiplyer = new web3.eth.Contract(_abiArray,\"0x303B2Ec2dB3105C332C2A802DB0ecb9b5370eC92\");\n",
    "\n",
    "multiplyer.methods.multiply(8).call().then(function(val) { console.log(val);})\n"
   ]
  },
  {
   "cell_type": "code",
   "execution_count": 18,
   "metadata": {},
   "outputs": [
    {
     "name": "stdout",
     "output_type": "stream",
     "text": [
      "56\n"
     ]
    }
   ],
   "source": [
    "!node C:\\Users\\sofod\\Code\\201710957\\src\\multiplyUse.js"
   ]
  },
  {
   "cell_type": "code",
   "execution_count": null,
   "metadata": {},
   "outputs": [],
   "source": []
  }
 ],
 "metadata": {
  "kernelspec": {
   "display_name": "Python 3",
   "language": "python",
   "name": "python3"
  },
  "language_info": {
   "codemirror_mode": {
    "name": "ipython",
    "version": 3
   },
   "file_extension": ".py",
   "mimetype": "text/x-python",
   "name": "python",
   "nbconvert_exporter": "python",
   "pygments_lexer": "ipython3",
   "version": "3.7.1"
  }
 },
 "nbformat": 4,
 "nbformat_minor": 2
}
