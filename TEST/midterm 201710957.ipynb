{
 "cells": [
  {
   "cell_type": "markdown",
   "metadata": {},
   "source": [
    "# 201710957 이유진"
   ]
  },
  {
   "cell_type": "markdown",
   "metadata": {},
   "source": [
    "## 문제 1\n",
    "\n",
    "geth서버를 포트번호 8446에 하나 더 띄우세요 (geth@8446이라고 명명).\n",
    "\n",
    "geth@8446의 chainid, nteworkid는 36번으로 설정한다.\n",
    "\n",
    "geth@8446에서 계정을 2개 만들고, 충전을 해 놓는다 (coinbase에 5 ether 이상).\n",
    "\n",
    "아래 문제는 eth 스크립트로 작성하여 풀고, geth --exec 'loadScript()'로 실행한다.\n",
    "\n",
    "스크립트는 하나 이상 작성해도 된다. 3개까지 는 허용되고, 4개 이상은 감점하게 됩니다.\n",
    "\n",
    "1-1 geth@8446에서 admin.nodeInfo 출력 (네트워크 ID 4이하로 출력되지 않게 하고, 36번으로 출력함)\n",
    "\n",
    "1-2 geth@8446에서 계정, ether 잔고(잔고가 5 ether 이상 있어야 함), 블록번호를 출력\n",
    "\n",
    "1-3 geth@8446 coinbase에서 geth@8446 2번째 계정으로 1.11 ether 계좌이체\n",
    "\n",
    "1-4 계좌이체의 hash값을 사용해 getTransactionReceipt 출력\n",
    "\n",
    "1-5 계좌이체가 성공했다면 geth@8446의 수신측 계정잔고, 수신측 잔고변화 ether, 블록번호를 출력하세요."
   ]
  },
  {
   "cell_type": "markdown",
   "metadata": {},
   "source": [
    "#### < geth@8446 설정 >"
   ]
  },
  {
   "cell_type": "code",
   "execution_count": 2,
   "metadata": {
    "scrolled": true
   },
   "outputs": [
    {
     "name": "stdout",
     "output_type": "stream",
     "text": [
      "Writing _genesis_mid.json\n"
     ]
    }
   ],
   "source": [
    "%%writefile _genesis_mid.json\n",
    "{\n",
    "  \"config\": {\n",
    "    \"chainId\": 36,\n",
    "    \"homesteadBlock\": 0,\n",
    "    \"eip155Block\": 0,\n",
    "    \"eip158Block\": 0,\n",
    "    \"eip158Block\": 0\n",
    "  },\n",
    "  \"nonce\": \"0x0000000000000033\",\n",
    "  \"timestamp\": \"0x0\",\n",
    "  \"parentHash\": \"0x0000000000000000000000000000000000000000000000000000000000000000\",\n",
    "  \"gasLimit\": \"0x8000000\",\n",
    "  \"difficulty\": \"0x100\",\n",
    "  \"mixhash\": \"0x0000000000000000000000000000000000000000000000000000000000000000\",\n",
    "  \"coinbase\": \"0x3333333333333333333333333333333333333333\",\n",
    "  \"alloc\": {}\n",
    "}\n"
   ]
  },
  {
   "cell_type": "code",
   "execution_count": 10,
   "metadata": {},
   "outputs": [
    {
     "name": "stdout",
     "output_type": "stream",
     "text": [
      "Overwriting _gethNow_mid.bat\n"
     ]
    }
   ],
   "source": [
    "%%writefile _gethNow_mid.bat\n",
    "geth --identity \"yujin\" --unlock 0 --datadir .\\eth2 --rpc --rpcaddr \"localhost\" --rpcport \"8446\" --rpccorsdomain \"*\" --port \"38446\" --rpcapi \"admin, db, eth, debug, miner, net, shh, txpool, personal, web3\" --networkid 36"
   ]
  },
  {
   "cell_type": "code",
   "execution_count": 11,
   "metadata": {},
   "outputs": [
    {
     "name": "stderr",
     "output_type": "stream",
     "text": [
      "INFO [05-12|10:30:07.924] Maximum peer count                       ETH=25 LES=0 total=25\n",
      "INFO [05-12|10:30:07.993] Allocated cache and file handles         database=C:\\\\Users\\\\sofod\\\\Code\\\\201710957\\\\eth2\\\\geth\\\\chaindata cache=16 handles=16\n",
      "INFO [05-12|10:30:08.015] Persisted trie from memory database      nodes=0 size=0.00B time=0s gcnodes=0 gcsize=0.00B gctime=0s livenodes=1 livesize=0.00B\n",
      "INFO [05-12|10:30:08.016] Successfully wrote genesis state         database=chaindata                                                hash=5704d0���9bc5b0\n",
      "INFO [05-12|10:30:08.016] Allocated cache and file handles         database=C:\\\\Users\\\\sofod\\\\Code\\\\201710957\\\\eth2\\\\geth\\\\lightchaindata cache=16 handles=16\n",
      "INFO [05-12|10:30:08.032] Persisted trie from memory database      nodes=0 size=0.00B time=0s gcnodes=0 gcsize=0.00B gctime=0s livenodes=1 livesize=0.00B\n",
      "INFO [05-12|10:30:08.032] Successfully wrote genesis state         database=lightchaindata                                                hash=5704d0���9bc5b0\n"
     ]
    }
   ],
   "source": [
    "!geth --datadir eth2 init _genesis_mid.json"
   ]
  },
  {
   "cell_type": "code",
   "execution_count": null,
   "metadata": {},
   "outputs": [],
   "source": []
  },
  {
   "cell_type": "markdown",
   "metadata": {},
   "source": [
    "# 답 - 1-1~ 1-5번 풀이를 위한 script 작성"
   ]
  },
  {
   "cell_type": "code",
   "execution_count": 100,
   "metadata": {},
   "outputs": [
    {
     "name": "stdout",
     "output_type": "stream",
     "text": [
      "Overwriting mid_1.js\n"
     ]
    }
   ],
   "source": [
    "%%writefile mid_1.js\n",
    "\n",
    "console.log(\"#1-1 : Print admin.nodeInfo\");\n",
    "console.log( JSON.stringify( admin.nodeInfo) );\n",
    "\n",
    "var before = eth.getBalance(eth.accounts[1]);\n",
    "\n",
    "var cb = eth.coinbase;\n",
    "console.log('\\n# 1-2');\n",
    "console.log('Account : ' , cb);\n",
    "console.log('Balance : ', web3.fromWei(eth.getBalance(cb) ,\"ether\") )\n",
    "console.log('Block Number : ' ,eth.blockNumber);\n",
    "\n",
    "var val = web3.toWei('1.11', 'ether');\n",
    "console.log('\\n# 1-3 : sendTransaction')\n",
    "var t = eth.sendTransaction({from:cb, to:eth.accounts[1],value: val});\n",
    "console.log('hash ' , t);\n",
    "\n",
    "miner.start(1); admin.sleepBlocks(1); miner.stop();\n",
    "\n",
    "console.log('\\n# 1-4')\n",
    "console.log( 'Print getTransactionRecipt')\n",
    "var recipt = eth.getTransactionReceipt(t) \n",
    "console.log(JSON.stringify(recipt) )\n",
    "\n",
    "console.log(\"\\n# 1-5\")\n",
    "console.log('before : ' , web3.fromWei(before,\"ether\") );\n",
    "console.log('after :' ,  web3.fromWei(eth.getBalance(eth.accounts[1]),\"ether\")  );\n",
    "console.log('Block Number : ' ,eth.blockNumber);\n",
    "\n"
   ]
  },
  {
   "cell_type": "markdown",
   "metadata": {},
   "source": [
    "# 답 -  실행결과"
   ]
  },
  {
   "cell_type": "code",
   "execution_count": 101,
   "metadata": {
    "scrolled": false
   },
   "outputs": [
    {
     "name": "stdout",
     "output_type": "stream",
     "text": [
      "#1-1 : Print admin.nodeInfo\n",
      "{\"enode\":\"enode://49197485007d5ac1df38b5826259293536f71271f99163f71618ea5996264fb360bfd31762d002c0e7d478998383d728a315ae750093bbaa571cf0f88cf36b44@127.0.0.1:38446\",\"enr\":\"0xf896b840ca0e18c3c912e9abfb947f9dcf067af92afd412370662f708f9bf8e04b16ee79799363d277bb946e071b76885c8262445b72708ee24495c6338a97e0a88752690583636170c6c5836574683f826964827634826970847f00000189736563703235366b31a10249197485007d5ac1df38b5826259293536f71271f99163f71618ea5996264fb38374637082962e8375647082962e\",\"id\":\"fb870ae5cf9e09119eb0249ca694662e22be2a5c6d82994225733a5cb726079e\",\"ip\":\"127.0.0.1\",\"listenAddr\":\"[::]:38446\",\"name\":\"Geth/yujin/v1.8.20-stable-24d727b6/windows-amd64/go1.11.2\",\"ports\":{\"discovery\":38446,\"listener\":38446},\"protocols\":{\"eth\":{\"config\":{\"chainId\":36,\"eip150Hash\":\"0x0000000000000000000000000000000000000000000000000000000000000000\",\"eip155Block\":0,\"eip158Block\":0,\"homesteadBlock\":0},\"difficulty\":4328896,\"genesis\":\"0x5704d029fe80f4fb605c0cb5e31d591511f10a46a0cb8166f97d8d559f9bc5b0\",\"head\":\"0xea59a182493b8c67a5715df5ffb99bf855c89a21444f3b1298c942b8f298f3a1\",\"network\":36}}}\n",
      "\n",
      "# 1-2\n",
      "Account :  0x28ced7def6e6c2cc26c4d1fc3036eab81b3f88b3\n",
      "Balance :  40.68\n",
      "Block Number :  33\n",
      "\n",
      "# 1-3 : sendTransaction\n",
      "hash  0xa5c5bedbb8af8ab9e3b8db000bd820118f1ca866a84188920f071e1b6e036fbd\n",
      "\n",
      "# 1-4\n",
      "Print getTransactionRecipt\n",
      "{\"blockHash\":\"0x046af4bb837b17f631c50a46138136bd4e3e1a20a895276739dcc314dc2bdf0d\",\"blockNumber\":34,\"contractAddress\":null,\"cumulativeGasUsed\":21000,\"from\":\"0x28ced7def6e6c2cc26c4d1fc3036eab81b3f88b3\",\"gasUsed\":21000,\"logs\":[],\"logsBloom\":\"0x00000000000000000000000000000000000000000000000000000000000000000000000000000000000000000000000000000000000000000000000000000000000000000000000000000000000000000000000000000000000000000000000000000000000000000000000000000000000000000000000000000000000000000000000000000000000000000000000000000000000000000000000000000000000000000000000000000000000000000000000000000000000000000000000000000000000000000000000000000000000000000000000000000000000000000000000000000000000000000000000000000000000000000000000000000000\",\"root\":\"0xfba5c91d0f34199bc6247a255f6b0d944a02651c8e387c539ba03427b1e5b95d\",\"to\":\"0xce440e9a56971684bb57fe78fcab47d4c688271e\",\"transactionHash\":\"0xa5c5bedbb8af8ab9e3b8db000bd820118f1ca866a84188920f071e1b6e036fbd\",\"transactionIndex\":0}\n",
      "\n",
      "# 1-5\n",
      "before :  124.32\n",
      "after : 125.43\n",
      "Block Number :  34\n",
      "true\n"
     ]
    }
   ],
   "source": [
    "!geth --exec \"loadScript('mid_1.js')\" attach http://localhost:8446"
   ]
  },
  {
   "cell_type": "markdown",
   "metadata": {},
   "source": [
    "##  답 설명\n",
    "\n",
    "- 1-1) geth@8446의 admin,nodeInfo는 아래와 같다\n",
    "\n",
    "{\"enode\":\"enode://49197485007d5ac1df38b5826259293536f71271f99163f71618ea5996264fb360bfd31762d002c0e7d478998383d728a315ae750093bbaa571cf0f88cf36b44@127.0.0.1:38446\",\"enr\":\"0xf896b840ca0e18c3c912e9abfb947f9dcf067af92afd412370662f708f9bf8e04b16ee79799363d277bb946e071b76885c8262445b72708ee24495c6338a97e0a88752690583636170c6c5836574683f826964827634826970847f00000189736563703235366b31a10249197485007d5ac1df38b5826259293536f71271f99163f71618ea5996264fb38374637082962e8375647082962e\",\"id\":\"fb870ae5cf9e09119eb0249ca694662e22be2a5c6d82994225733a5cb726079e\",\"ip\":\"127.0.0.1\",\"listenAddr\":\"[::]:38446\",\"name\":\"Geth/yujin/v1.8.20-stable-24d727b6/windows-amd64/go1.11.2\",\"ports\":{\"discovery\":38446,\"listener\":38446},\"protocols\":{\"eth\":{\"config\":{\"chainId\":36,\"eip150Hash\":\"0x0000000000000000000000000000000000000000000000000000000000000000\",\"eip155Block\":0,\"eip158Block\":0,\"homesteadBlock\":0},\"difficulty\":4328896,\"genesis\":\"0x5704d029fe80f4fb605c0cb5e31d591511f10a46a0cb8166f97d8d559f9bc5b0\",\"head\":\"0xea59a182493b8c67a5715df5ffb99bf855c89a21444f3b1298c942b8f298f3a1\",\"network\":36}}}\n",
    "\n",
    "- 1-2) geth@8446의 계정은 0x28ced7def6e6c2cc26c4d1fc3036eab81b3f88b3\n",
    "     잔고는  40.68 ether, Block Number는 33 이다.\n",
    "- 1-3) (Line 16) var t = eth.sendTransaction({from:cb, to:eth.accounts[1],value: val});을 이용하여 송금하였다.\n",
    "     송금시 리턴되는 해쉬값을 t에 저장하였다.\n",
    "\n",
    "- 1-4) (Line 23) var recipt = eth.getTransactionReceipt(t) 을 이용하여 getTransactionReceipt를 출력하였다, 결과는 아래와 같다.\n",
    "\n",
    "{\"blockHash\":\"0x046af4bb837b17f631c50a46138136bd4e3e1a20a895276739dcc314dc2bdf0d\",\"blockNumber\":34,\"contractAddress\":null,\"cumulativeGasUsed\":21000,\"from\":\"0x28ced7def6e6c2cc26c4d1fc3036eab81b3f88b3\",\"gasUsed\":21000,\"logs\":[],\"logsBloom\":\"0x00000000000000000000000000000000000000000000000000000000000000000000000000000000000000000000000000000000000000000000000000000000000000000000000000000000000000000000000000000000000000000000000000000000000000000000000000000000000000000000000000000000000000000000000000000000000000000000000000000000000000000000000000000000000000000000000000000000000000000000000000000000000000000000000000000000000000000000000000000000000000000000000000000000000000000000000000000000000000000000000000000000000000000000000000000000\",\"root\":\"0xfba5c91d0f34199bc6247a255f6b0d944a02651c8e387c539ba03427b1e5b95d\",\"to\":\"0xce440e9a56971684bb57fe78fcab47d4c688271e\",\"transactionHash\":\"0xa5c5bedbb8af8ab9e3b8db000bd820118f1ca866a84188920f071e1b6e036fbd\",\"transactionIndex\":0}\n",
    "\n",
    "\n",
    "- 1-5) 계좌이체는 성공했고, 수신측 계정의 잔고는 124.32 ether 였으나, 송금이 이루어진후 125.43 ether 으로, 1.11ether 증가함을 알수있다. 또한 블럭넘버가 1 증가함을 알수있다.\n"
   ]
  },
  {
   "cell_type": "markdown",
   "metadata": {},
   "source": [
    "  \n",
    "  \n",
    "  \n",
    "  "
   ]
  },
  {
   "cell_type": "markdown",
   "metadata": {},
   "source": [
    "   "
   ]
  },
  {
   "cell_type": "markdown",
   "metadata": {},
   "source": [
    "# 문제 2\n",
    "\n",
    "2의 거듭제곱을 계산하는 컨트랙을 프로그램하세요.\n",
    "\n",
    "8을 입력하면 256, 32는 4294967296을 출력합니다.\n",
    "\n",
    "geth@8446, geth@8445 가운데 선택하여 문제를 풀어도 됩니다.\n",
    "\n",
    "2-1 컨트랙은 Math.sol로 저장하고, 함수는 powerOf2로 명명해서 프로그램 작성\n",
    "\n",
    "2-2 컴파일해서 abi, gas, bin을 출력\n",
    "\n",
    "2-3 Node로 배포 (배포 스크립트 작성)\n",
    "\n",
    "2-4 Node로 사용 (사용 스크립트 작성, 8과 32를 입력해서 결과 출력)\n",
    "\n",
    "2-5 웹페이지 powerOf2.html을 작성 (32를 입력하고, 결과를 화면에 출력하고 캡쳐해서 별도 제출)\n",
    "\n",
    "\n",
    "\n"
   ]
  },
  {
   "cell_type": "markdown",
   "metadata": {},
   "source": [
    "  "
   ]
  },
  {
   "cell_type": "markdown",
   "metadata": {},
   "source": [
    "# 답 2-1 "
   ]
  },
  {
   "cell_type": "code",
   "execution_count": 106,
   "metadata": {},
   "outputs": [
    {
     "name": "stdout",
     "output_type": "stream",
     "text": [
      "Writing src\\Math.sol\n"
     ]
    }
   ],
   "source": [
    "%%writefile src\\Math.sol\n",
    "pragma solidity ^0.4.0;\n",
    "\n",
    "contract Math{\n",
    "    function powerOf2(uint input) public pure returns (uint){\n",
    "        return 2**input;\n",
    "    }\n",
    "   \n",
    "}"
   ]
  },
  {
   "cell_type": "markdown",
   "metadata": {},
   "source": [
    "# 답 2-2"
   ]
  },
  {
   "cell_type": "code",
   "execution_count": 113,
   "metadata": {},
   "outputs": [
    {
     "name": "stdout",
     "output_type": "stream",
     "text": [
      "\n",
      "======= src\\Math.sol:Math =======\n",
      "Gas estimation:\n",
      "construction:\n",
      "   87 + 37400 = 37487\n",
      "external:\n",
      "   powerOf2(uint256):\t1876\n",
      "Binary: \n",
      "608060405234801561001057600080fd5b5060bb8061001f6000396000f300608060405260043610603f576000357c0100000000000000000000000000000000000000000000000000000000900463ffffffff168063bdacc0cf146044575b600080fd5b348015604f57600080fd5b50606c600480360381019080803590602001909291905050506082565b6040518082815260200191505060405180910390f35b60008160020a90509190505600a165627a7a7230582012363737525ec34aa01328c5d9b61e2a78138d49a37232d475d4958b938c74590029\n",
      "Contract JSON ABI \n",
      "[{\"constant\":true,\"inputs\":[{\"name\":\"input\",\"type\":\"uint256\"}],\"name\":\"powerOf2\",\"outputs\":[{\"name\":\"\",\"type\":\"uint256\"}],\"payable\":false,\"stateMutability\":\"pure\",\"type\":\"function\"}]\n"
     ]
    }
   ],
   "source": [
    "!solc --abi --gas --bin src\\Math.sol"
   ]
  },
  {
   "cell_type": "markdown",
   "metadata": {},
   "source": [
    "# 답 2-3"
   ]
  },
  {
   "cell_type": "code",
   "execution_count": null,
   "metadata": {},
   "outputs": [],
   "source": [
    "!geth --exec \"eth.coinbase\" attach http://localhost:8446"
   ]
  },
  {
   "cell_type": "code",
   "execution_count": 123,
   "metadata": {},
   "outputs": [
    {
     "name": "stdout",
     "output_type": "stream",
     "text": [
      "Overwriting src\\math_deploy.js\n"
     ]
    }
   ],
   "source": [
    "%%writefile src\\math_deploy.js\n",
    "var Web3=require('web3');\n",
    "var web3 = new Web3(new Web3.providers.HttpProvider(\"http://localhost:8446\"));\n",
    "var shelloContract = new web3.eth.Contract(\n",
    "[{\"constant\":true,\"inputs\":[{\"name\":\"input\",\"type\":\"uint256\"}],\"name\":\"powerOf2\",\"outputs\":[{\"name\":\"\",\"type\":\"uint256\"}],\"payable\":false,\"stateMutability\":\"pure\",\"type\":\"function\"}]\n",
    ");\n",
    "\n",
    "shelloContract\n",
    "    .deploy({\n",
    "            data: '0x608060405234801561001057600080fd5b5060bb8061001f6000396000f300608060405260043610603f576000357c0100000000000000000000000000000000000000000000000000000000900463ffffffff168063bdacc0cf146044575b600080fd5b348015604f57600080fd5b50606c600480360381019080803590602001909291905050506082565b6040518082815260200191505060405180910390f35b60008160020a90509190505600a165627a7a7230582012363737525ec34aa01328c5d9b61e2a78138d49a37232d475d4958b938c74590029', \n",
    "    })\n",
    "    .send({\n",
    "     from: '0x28ced7def6e6c2cc26c4d1fc3036eab81b3f88b3' ,\n",
    "     gas: '4700000'\n",
    "    }, function (error, transactionHash){ \n",
    "            console.log(\"error :\" + error);\n",
    "            console.log(\"hash : \" + transactionHash); \n",
    "    })\n",
    "    .then(function(newContractInstance){\n",
    "        console.log(\"address : \" + newContractInstance.options.address)\n",
    "    });"
   ]
  },
  {
   "cell_type": "code",
   "execution_count": 124,
   "metadata": {},
   "outputs": [
    {
     "name": "stdout",
     "output_type": "stream",
     "text": [
      "error :null\n",
      "hash : 0x908f2188931bb71d6855070d0a158d50cfefbb1a24dd137934e7ffd41bc2d1ee\n",
      "address : 0x740D5Cb8Ec87e5BEd57BD0c8EA08ca6A459c5563\n"
     ]
    }
   ],
   "source": [
    "!node src\\math_deploy.js"
   ]
  },
  {
   "cell_type": "markdown",
   "metadata": {},
   "source": [
    "# 답 2-4"
   ]
  },
  {
   "cell_type": "code",
   "execution_count": 128,
   "metadata": {},
   "outputs": [
    {
     "name": "stdout",
     "output_type": "stream",
     "text": [
      "Overwriting src\\mathUse.js\n"
     ]
    }
   ],
   "source": [
    "%%writefile src\\mathUse.js\n",
    "var Web3=require('web3');\n",
    "var web3 = new Web3(new Web3.providers.HttpProvider(\"http://localhost:8446\"));\n",
    "var _abiArray=[{\"constant\":true,\"inputs\":[{\"name\":\"input\",\"type\":\"uint256\"}],\"name\":\"powerOf2\",\"outputs\":[{\"name\":\"\",\"type\":\"uint256\"}],\"payable\":false,\"stateMutability\":\"pure\",\"type\":\"function\"}];\n",
    "var multiplyer = new web3.eth.Contract(_abiArray,\"0x740D5Cb8Ec87e5BEd57BD0c8EA08ca6A459c5563\");\n",
    "\n",
    "multiplyer.methods.powerOf2(8).call().then(function(val) { console.log('powerOf2(8) : ' , val);})\n",
    "multiplyer.methods.powerOf2(32).call().then(function(val) { console.log('powerOf2(32) : ' , val);})"
   ]
  },
  {
   "cell_type": "code",
   "execution_count": 2,
   "metadata": {},
   "outputs": [
    {
     "name": "stdout",
     "output_type": "stream",
     "text": [
      "powerOf2(32) :  4294967296\n",
      "powerOf2(8) :  256\n"
     ]
    }
   ],
   "source": [
    "!node src\\mathUse.js"
   ]
  },
  {
   "cell_type": "markdown",
   "metadata": {},
   "source": [
    "# 답 2-5"
   ]
  },
  {
   "cell_type": "code",
   "execution_count": 14,
   "metadata": {},
   "outputs": [
    {
     "name": "stdout",
     "output_type": "stream",
     "text": [
      "Overwriting C:/Users/sofod/Code/201710957/scripts/powerOf2.html\n"
     ]
    }
   ],
   "source": [
    "%%writefile C:/Users/sofod/Code/201710957/scripts/powerOf2.html\n",
    "<!doctype>\n",
    "<html>\n",
    "<head>\n",
    "<script src=\"https://cdn.jsdelivr.net/npm/web3@0.20.5/dist/web3.min.js\"></script>\n",
    "<script type=\"text/javascript\">\n",
    "\n",
    "    var web3 = new Web3(new Web3.providers.HttpProvider(\"http://127.0.0.1:8446\"));\n",
    "    \n",
    "    function displayMath() {\n",
    "        //web3@0.20.x\n",
    "        var mathContract = web3.eth.contract(\n",
    "            [{\"constant\":true,\"inputs\":[{\"name\":\"input\",\"type\":\"uint256\"}],\"name\":\"powerOf2\",\"outputs\":[{\"name\":\"\",\"type\":\"uint256\"}],\"payable\":false,\"stateMutability\":\"pure\",\"type\":\"function\"}]\n",
    "                                              );\n",
    "        var math = mathContract.at(\"0x740D5Cb8Ec87e5BEd57BD0c8EA08ca6A459c5563\");\n",
    "        \n",
    "        var resultOf32 = math.powerOf2.call(32);\n",
    "\n",
    "        document.getElementById('result').innerText = 'result is ';\n",
    "        document.getElementById('result2').innerText = resultOf32;\n",
    "\n",
    "       \n",
    "    }\n",
    "</script>\n",
    "</head>\n",
    "<body>\n",
    "    <h1>Math</h1>\n",
    "    <button type=\"button\" onClick=\"displayMath();\"> Get result of 2^32 </button>\n",
    "   \n",
    "    <div id=\"result\" > </div>\n",
    "    <div id=\"result2\"> </div>\n",
    "\n",
    "</body>\n",
    "</html>"
   ]
  },
  {
   "cell_type": "markdown",
   "metadata": {},
   "source": [
    "Get result 버튼을 생성하여, 버튼을 누를경우 결과값이 나오도록 만들었다."
   ]
  },
  {
   "cell_type": "code",
   "execution_count": null,
   "metadata": {},
   "outputs": [],
   "source": []
  }
 ],
 "metadata": {
  "kernelspec": {
   "display_name": "Python 3",
   "language": "python",
   "name": "python3"
  },
  "language_info": {
   "codemirror_mode": {
    "name": "ipython",
    "version": 3
   },
   "file_extension": ".py",
   "mimetype": "text/x-python",
   "name": "python",
   "nbconvert_exporter": "python",
   "pygments_lexer": "ipython3",
   "version": "3.7.1"
  }
 },
 "nbformat": 4,
 "nbformat_minor": 2
}
