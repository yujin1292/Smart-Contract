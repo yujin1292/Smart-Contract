{
 "cells": [
  {
   "cell_type": "markdown",
   "metadata": {},
   "source": [
    "# week 13\n",
    "## 201710957 comp. sci. 이유진"
   ]
  },
  {
   "cell_type": "markdown",
   "metadata": {},
   "source": [
    "블록체인에서 주문을 하고, 그 내역을 로컬 파일에 작성해 보자.\n",
    "\n",
    "블록체인으로 주문을 전송하면, 이벤트가 발생하고 주문내역을 로컬파일에 쓰게 된다.\n",
    "\n",
    "* EventTest.sol에서는 이벤트가 발생하면서 그 로그를 파일에 작성한다 (OrderEvent.txt)\n",
    "\n",
    "* OrderEvent.sol을 수정하여:\n",
    "\n",
    "\t* order(상품항목, 주문 개수, 배송지) 함수 작성\n",
    "\n",
    "\t* getBalance() 함수 작성. 해당 프로그램 생성한 Owner만 읽을 수 있게 modfier isOnwer 작성.\n",
    "\n"
   ]
  },
  {
   "cell_type": "markdown",
   "metadata": {},
   "source": [
    "## 1) Solidity 코딩"
   ]
  },
  {
   "cell_type": "code",
   "execution_count": 1,
   "metadata": {},
   "outputs": [
    {
     "name": "stdout",
     "output_type": "stream",
     "text": [
      "Overwriting C:\\Users\\sofod\\Code\\201710957\\src\\orderEvent_week13.sol\n"
     ]
    }
   ],
   "source": [
    "%%writefile C:\\Users\\sofod\\Code\\201710957\\src\\orderEvent_week13.sol\n",
    "pragma solidity ^0.5.0;\n",
    "contract orderEvent_week13{\n",
    "    address owner;\n",
    "    \n",
    "    event OrderLog(address sender , bytes2 item_id , uint quantanty, string dest_addr);\n",
    "    \n",
    "    constructor() public {\n",
    "        owner = msg.sender;\n",
    "    }\n",
    "    function order( bytes2 _itemId, uint quantanty , string memory dest_addr ) public payable {\n",
    "        emit OrderLog(msg.sender, _itemId , quantanty, dest_addr);\n",
    "    }\n",
    "    modifier isOwner(){\n",
    "        if(msg.sender != owner){\n",
    "            revert();\n",
    "        }\n",
    "        _;\n",
    "    }\n",
    "    function getBalance() view public isOwner returns(uint){\n",
    "        return address(this).balance;\n",
    "    }\n",
    "}"
   ]
  },
  {
   "cell_type": "markdown",
   "metadata": {},
   "source": [
    "## 2) Solc를 이용하여 컴파일"
   ]
  },
  {
   "cell_type": "code",
   "execution_count": 2,
   "metadata": {
    "scrolled": false
   },
   "outputs": [
    {
     "name": "stdout",
     "output_type": "stream",
     "text": [
      "solc, the solidity compiler commandline interface\n",
      "Version: 0.5.0+commit.1d4f565a.Windows.msvc\n"
     ]
    }
   ],
   "source": [
    "!solc --version"
   ]
  },
  {
   "cell_type": "code",
   "execution_count": 3,
   "metadata": {},
   "outputs": [
    {
     "name": "stdout",
     "output_type": "stream",
     "text": [
      "\n",
      "======= C:/Users/sofod/Code/201710957/src/orderEvent_week13.sol:orderEvent_week13 =======\n",
      "Gas estimation:\n",
      "construction:\n",
      "   20474 + 165000 = 185474\n",
      "external:\n",
      "   getBalance():\t883\n",
      "   order(bytes2,uint256,string):\tinfinite\n",
      "Binary: \n",
      "608060405234801561001057600080fd5b50336000806101000a81548173ffffffffffffffffffffffffffffffffffffffff021916908373ffffffffffffffffffffffffffffffffffffffff160217905550610339806100606000396000f3fe60806040526004361061004c576000357c0100000000000000000000000000000000000000000000000000000000900463ffffffff16806312065fe0146100515780637a59a9291461007c575b600080fd5b34801561005d57600080fd5b5061006661016c565b6040518082815260200191505060405180910390f35b61016a6004803603606081101561009257600080fd5b8101908080357dffffffffffffffffffffffffffffffffffffffffffffffffffffffffffff1916906020019092919080359060200190929190803590602001906401000000008111156100e457600080fd5b8201836020820111156100f657600080fd5b8035906020019184600183028401116401000000008311171561011857600080fd5b91908080601f016020809104026020016040519081016040528093929190818152602001838380828437600081840152601f19601f8201169050808301925050505050505091929192905050506101e6565b005b60008060009054906101000a900473ffffffffffffffffffffffffffffffffffffffff1673ffffffffffffffffffffffffffffffffffffffff163373ffffffffffffffffffffffffffffffffffffffff161415156101c957600080fd5b3073ffffffffffffffffffffffffffffffffffffffff1631905090565b7f0cee52e22e6b387c4183ee502522fa33f030e118cc6065c7a842e8b7c00e4a6a33848484604051808573ffffffffffffffffffffffffffffffffffffffff1673ffffffffffffffffffffffffffffffffffffffff168152602001847dffffffffffffffffffffffffffffffffffffffffffffffffffffffffffff19167dffffffffffffffffffffffffffffffffffffffffffffffffffffffffffff1916815260200183815260200180602001828103825283818151815260200191508051906020019080838360005b838110156102cb5780820151818401526020810190506102b0565b50505050905090810190601f1680156102f85780820380516001836020036101000a031916815260200191505b509550505050505060405180910390a150505056fea165627a7a7230582019e9c79ef3fdb61d13a82582cac2dc73bda0e3e5e49053ac427a4e0908c53f860029\n",
      "Contract JSON ABI \n",
      "[{\"constant\":true,\"inputs\":[],\"name\":\"getBalance\",\"outputs\":[{\"name\":\"\",\"type\":\"uint256\"}],\"payable\":false,\"stateMutability\":\"view\",\"type\":\"function\"},{\"constant\":false,\"inputs\":[{\"name\":\"_itemId\",\"type\":\"bytes2\"},{\"name\":\"quantanty\",\"type\":\"uint256\"},{\"name\":\"dest_addr\",\"type\":\"string\"}],\"name\":\"order\",\"outputs\":[],\"payable\":true,\"stateMutability\":\"payable\",\"type\":\"function\"},{\"inputs\":[],\"payable\":false,\"stateMutability\":\"nonpayable\",\"type\":\"constructor\"},{\"anonymous\":false,\"inputs\":[{\"indexed\":false,\"name\":\"sender\",\"type\":\"address\"},{\"indexed\":false,\"name\":\"item_id\",\"type\":\"bytes2\"},{\"indexed\":false,\"name\":\"quantanty\",\"type\":\"uint256\"},{\"indexed\":false,\"name\":\"dest_addr\",\"type\":\"string\"}],\"name\":\"OrderLog\",\"type\":\"event\"}]\n"
     ]
    }
   ],
   "source": [
    "!solc --abi --bin --gas C:\\Users\\sofod\\Code\\201710957\\src\\orderEvent_week13.sol"
   ]
  },
  {
   "cell_type": "markdown",
   "metadata": {},
   "source": [
    "## 3) node 를 이용한 배포 (ganache 사용)"
   ]
  },
  {
   "cell_type": "code",
   "execution_count": 20,
   "metadata": {},
   "outputs": [
    {
     "name": "stdout",
     "output_type": "stream",
     "text": [
      "Overwriting C:\\Users\\sofod\\Code\\201710957\\src\\orderEvent_week13_deploy.js\n"
     ]
    }
   ],
   "source": [
    "%%writefile C:\\Users\\sofod\\Code\\201710957\\src\\orderEvent_week13_deploy.js\n",
    "var Web3=require('web3');\n",
    "var web3 = new Web3(new Web3.providers.HttpProvider(\"http://localhost:8345\"));\n",
    "\n",
    "var _abiArray=[{\"constant\":true,\"inputs\":[],\"name\":\"getBalance\",\"outputs\":[{\"name\":\"\",\"type\":\"uint256\"}],\"payable\":false,\"stateMutability\":\"view\",\"type\":\"function\"},{\"constant\":false,\"inputs\":[{\"name\":\"_itemId\",\"type\":\"bytes2\"},{\"name\":\"quantanty\",\"type\":\"uint256\"},{\"name\":\"dest_addr\",\"type\":\"string\"}],\"name\":\"order\",\"outputs\":[],\"payable\":true,\"stateMutability\":\"payable\",\"type\":\"function\"},{\"inputs\":[],\"payable\":false,\"stateMutability\":\"nonpayable\",\"type\":\"constructor\"},{\"anonymous\":false,\"inputs\":[{\"indexed\":false,\"name\":\"sender\",\"type\":\"address\"},{\"indexed\":false,\"name\":\"item_id\",\"type\":\"bytes2\"},{\"indexed\":false,\"name\":\"quantanty\",\"type\":\"uint256\"},{\"indexed\":false,\"name\":\"dest_addr\",\"type\":\"string\"}],\"name\":\"OrderLog\",\"type\":\"event\"}];\n",
    "var _bin=\"0x\"+\"608060405234801561001057600080fd5b50336000806101000a81548173ffffffffffffffffffffffffffffffffffffffff021916908373ffffffffffffffffffffffffffffffffffffffff160217905550610339806100606000396000f3fe60806040526004361061004c576000357c0100000000000000000000000000000000000000000000000000000000900463ffffffff16806312065fe0146100515780637a59a9291461007c575b600080fd5b34801561005d57600080fd5b5061006661016c565b6040518082815260200191505060405180910390f35b61016a6004803603606081101561009257600080fd5b8101908080357dffffffffffffffffffffffffffffffffffffffffffffffffffffffffffff1916906020019092919080359060200190929190803590602001906401000000008111156100e457600080fd5b8201836020820111156100f657600080fd5b8035906020019184600183028401116401000000008311171561011857600080fd5b91908080601f016020809104026020016040519081016040528093929190818152602001838380828437600081840152601f19601f8201169050808301925050505050505091929192905050506101e6565b005b60008060009054906101000a900473ffffffffffffffffffffffffffffffffffffffff1673ffffffffffffffffffffffffffffffffffffffff163373ffffffffffffffffffffffffffffffffffffffff161415156101c957600080fd5b3073ffffffffffffffffffffffffffffffffffffffff1631905090565b7f0cee52e22e6b387c4183ee502522fa33f030e118cc6065c7a842e8b7c00e4a6a33848484604051808573ffffffffffffffffffffffffffffffffffffffff1673ffffffffffffffffffffffffffffffffffffffff168152602001847dffffffffffffffffffffffffffffffffffffffffffffffffffffffffffff19167dffffffffffffffffffffffffffffffffffffffffffffffffffffffffffff1916815260200183815260200180602001828103825283818151815260200191508051906020019080838360005b838110156102cb5780820151818401526020810190506102b0565b50505050905090810190601f1680156102f85780820380516001836020036101000a031916815260200191505b509550505050505060405180910390a150505056fea165627a7a7230582019e9c79ef3fdb61d13a82582cac2dc73bda0e3e5e49053ac427a4e0908c53f860029\";\n",
    "\n",
    "\n",
    "\n",
    "var orderContract = new web3.eth.Contract(_abiArray);\n",
    "orderContract\n",
    "    .deploy({\n",
    "            data: _bin\n",
    "    })\n",
    "    .send({\n",
    "     from: \"0x9E55bAE2D4E5cf459adc5170ac6277C9749FF3cc\",\n",
    "     gas: '1000000'\n",
    "    }, function (error, transactionHash){ \n",
    "            console.log(\"error :\" + error);\n",
    "            console.log(\"hash : \" + transactionHash); \n",
    "    })\n",
    "    .then(function(newContractInstance){\n",
    "        console.log(\"address : \" + newContractInstance.options.address)\n",
    "    });"
   ]
  },
  {
   "cell_type": "code",
   "execution_count": 21,
   "metadata": {},
   "outputs": [
    {
     "name": "stdout",
     "output_type": "stream",
     "text": [
      "error :null\n",
      "hash : 0x1599f65710661009ac66e7b36a352f1d0358c8846e416f905c7befb4f6418c66\n",
      "address : 0x28130CD843D0150e4e9Dc56dD4078d508f45BDdC\n"
     ]
    }
   ],
   "source": [
    "!node C:\\Users\\sofod\\Code\\201710957\\src\\orderEvent_week13_deploy.js"
   ]
  },
  {
   "cell_type": "markdown",
   "metadata": {},
   "source": [
    "## 4) 사용\n",
    "\n",
    "### async 방식을 이용하여 event를 출력하였다."
   ]
  },
  {
   "cell_type": "code",
   "execution_count": 22,
   "metadata": {},
   "outputs": [
    {
     "name": "stdout",
     "output_type": "stream",
     "text": [
      "Overwriting C:\\Users\\sofod\\Code\\201710957\\src\\orderEvent_week13_use.js\n"
     ]
    }
   ],
   "source": [
    "%%writefile C:\\Users\\sofod\\Code\\201710957\\src\\orderEvent_week13_use.js\n",
    "var Web3=require('web3');\n",
    "var web3;\n",
    "if (typeof web3 !== 'undefined') {\n",
    "    web3 = new Web3(web3.currentProvider);\n",
    "} else {\n",
    "    var web3 = new Web3(new Web3.providers.WebsocketProvider(\"http://localhost:8345\"));\n",
    "}\n",
    "\n",
    "var fs = require('fs');\n",
    "\n",
    "var _abiArray=[{\"constant\":true,\"inputs\":[],\"name\":\"getBalance\",\"outputs\":[{\"name\":\"\",\"type\":\"uint256\"}],\"payable\":false,\"stateMutability\":\"view\",\"type\":\"function\"},{\"constant\":false,\"inputs\":[{\"name\":\"_itemId\",\"type\":\"bytes2\"},{\"name\":\"quantanty\",\"type\":\"uint256\"},{\"name\":\"dest_addr\",\"type\":\"string\"}],\"name\":\"order\",\"outputs\":[],\"payable\":true,\"stateMutability\":\"payable\",\"type\":\"function\"},{\"inputs\":[],\"payable\":false,\"stateMutability\":\"nonpayable\",\"type\":\"constructor\"},{\"anonymous\":false,\"inputs\":[{\"indexed\":false,\"name\":\"sender\",\"type\":\"address\"},{\"indexed\":false,\"name\":\"item_id\",\"type\":\"bytes2\"},{\"indexed\":false,\"name\":\"quantanty\",\"type\":\"uint256\"},{\"indexed\":false,\"name\":\"dest_addr\",\"type\":\"string\"}],\"name\":\"OrderLog\",\"type\":\"event\"}];\n",
    "var _bin=\"0x\"+\"608060405234801561001057600080fd5b50336000806101000a81548173ffffffffffffffffffffffffffffffffffffffff021916908373ffffffffffffffffffffffffffffffffffffffff160217905550610339806100606000396000f3fe60806040526004361061004c576000357c0100000000000000000000000000000000000000000000000000000000900463ffffffff16806312065fe0146100515780637a59a9291461007c575b600080fd5b34801561005d57600080fd5b5061006661016c565b6040518082815260200191505060405180910390f35b61016a6004803603606081101561009257600080fd5b8101908080357dffffffffffffffffffffffffffffffffffffffffffffffffffffffffffff1916906020019092919080359060200190929190803590602001906401000000008111156100e457600080fd5b8201836020820111156100f657600080fd5b8035906020019184600183028401116401000000008311171561011857600080fd5b91908080601f016020809104026020016040519081016040528093929190818152602001838380828437600081840152601f19601f8201169050808301925050505050505091929192905050506101e6565b005b60008060009054906101000a900473ffffffffffffffffffffffffffffffffffffffff1673ffffffffffffffffffffffffffffffffffffffff163373ffffffffffffffffffffffffffffffffffffffff161415156101c957600080fd5b3073ffffffffffffffffffffffffffffffffffffffff1631905090565b7f0cee52e22e6b387c4183ee502522fa33f030e118cc6065c7a842e8b7c00e4a6a33848484604051808573ffffffffffffffffffffffffffffffffffffffff1673ffffffffffffffffffffffffffffffffffffffff168152602001847dffffffffffffffffffffffffffffffffffffffffffffffffffffffffffff19167dffffffffffffffffffffffffffffffffffffffffffffffffffffffffffff1916815260200183815260200180602001828103825283818151815260200191508051906020019080838360005b838110156102cb5780820151818401526020810190506102b0565b50505050905090810190601f1680156102f85780820380516001836020036101000a031916815260200191505b509550505050505060405180910390a150505056fea165627a7a7230582019e9c79ef3fdb61d13a82582cac2dc73bda0e3e5e49053ac427a4e0908c53f860029\";\n",
    "\n",
    "async function doIt() {\n",
    "    var _order = new web3.eth.Contract(_abiArray, '0x28130CD843D0150e4e9Dc56dD4078d508f45BDdC');\n",
    "    var event = _order.events.OrderLog({fromBlock:0},function(error, result) {\n",
    "        if (!error) {\n",
    "            log = JSON.stringify(result.returnValues.sender)+\",\"+  JSON.stringify(result.returnValues.item_id)\n",
    "            + \",\"+JSON.stringify(result.returnValues.quantanty) +\",\"+  JSON.stringify(result.returnValues.dest_addr)+\"\\n\";\n",
    "            console.log(\"---------------------------------------------\");\n",
    "            console.log(\"Event fired: \" + log);\n",
    "            fs.appendFile(\"OrderEvent.txt\", log ,\"utf-8\",function(e) {\n",
    "                if(!e){\n",
    "                    console.log(\">>Writing to file\\n\");\n",
    "                }\n",
    "            });\n",
    "        }\n",
    "    });\n",
    "    \n",
    "    const accounts = await web3.eth.getAccounts();\n",
    "\n",
    "    // this will fire an event\n",
    "    my = await _order.methods.order(\"0x1111\", 3 , \"20 2-gil Hongji-dong Jongro-gu Seoul\")\n",
    "        .send({from: accounts[0], gas: 100000, value:30})\n",
    " \n",
    "    console.log(\"---> Order called \" + JSON.stringify(my.events.OrderLog.returnValues));\n",
    "    \n",
    "    my = await _order.methods.order(\"0x1111\", 5 , \"20 2-gil Hongji-dong Jongro-gu Seoul\")\n",
    "        .send({from: accounts[0], gas: 100000, value:30})\n",
    " \n",
    "    console.log(\"---> Order called \" + JSON.stringify(my.events.OrderLog.returnValues));\n",
    "\n",
    "    my = await _order.methods.order(\"0x1111\", 20 , \"20 2-gil Hongji-dong Jongro-gu Seoul\")\n",
    "        .send({from: accounts[0], gas: 100000, value:30})\n",
    " \n",
    "    console.log(\"---> Order called \" + JSON.stringify(my.events.OrderLog.returnValues));\n",
    "\n",
    "    process.exit(1);\n",
    "\n",
    "}\n",
    "\n",
    "doIt();\n"
   ]
  },
  {
   "cell_type": "code",
   "execution_count": 23,
   "metadata": {},
   "outputs": [
    {
     "name": "stdout",
     "output_type": "stream",
     "text": [
      "---------------------------------------------\n",
      "Event fired: \"0x9E55bAE2D4E5cf459adc5170ac6277C9749FF3cc\",\"0x1111\",\"3\",\"20 2-gil Hongji-dong Jongro-gu Seoul\"\n",
      "\n",
      ">>Writing to file\n",
      "\n",
      "---> Order called {\"0\":\"0x9E55bAE2D4E5cf459adc5170ac6277C9749FF3cc\",\"1\":\"0x1111\",\"2\":\"3\",\"3\":\"20 2-gil Hongji-dong Jongro-gu Seoul\",\"sender\":\"0x9E55bAE2D4E5cf459adc5170ac6277C9749FF3cc\",\"item_id\":\"0x1111\",\"quantanty\":\"3\",\"dest_addr\":\"20 2-gil Hongji-dong Jongro-gu Seoul\"}\n",
      "---------------------------------------------\n",
      "Event fired: \"0x9E55bAE2D4E5cf459adc5170ac6277C9749FF3cc\",\"0x1111\",\"5\",\"20 2-gil Hongji-dong Jongro-gu Seoul\"\n",
      "\n",
      ">>Writing to file\n",
      "\n",
      "---> Order called {\"0\":\"0x9E55bAE2D4E5cf459adc5170ac6277C9749FF3cc\",\"1\":\"0x1111\",\"2\":\"5\",\"3\":\"20 2-gil Hongji-dong Jongro-gu Seoul\",\"sender\":\"0x9E55bAE2D4E5cf459adc5170ac6277C9749FF3cc\",\"item_id\":\"0x1111\",\"quantanty\":\"5\",\"dest_addr\":\"20 2-gil Hongji-dong Jongro-gu Seoul\"}\n",
      "---------------------------------------------\n",
      "Event fired: \"0x9E55bAE2D4E5cf459adc5170ac6277C9749FF3cc\",\"0x1111\",\"20\",\"20 2-gil Hongji-dong Jongro-gu Seoul\"\n",
      "\n",
      ">>Writing to file\n",
      "\n",
      "---> Order called {\"0\":\"0x9E55bAE2D4E5cf459adc5170ac6277C9749FF3cc\",\"1\":\"0x1111\",\"2\":\"20\",\"3\":\"20 2-gil Hongji-dong Jongro-gu Seoul\",\"sender\":\"0x9E55bAE2D4E5cf459adc5170ac6277C9749FF3cc\",\"item_id\":\"0x1111\",\"quantanty\":\"20\",\"dest_addr\":\"20 2-gil Hongji-dong Jongro-gu Seoul\"}\n"
     ]
    }
   ],
   "source": [
    "!node C:\\Users\\sofod\\Code\\201710957\\src\\orderEvent_week13_use.js"
   ]
  },
  {
   "cell_type": "markdown",
   "metadata": {},
   "source": [
    "## 작성된 log내용 "
   ]
  },
  {
   "cell_type": "code",
   "execution_count": 24,
   "metadata": {},
   "outputs": [
    {
     "name": "stdout",
     "output_type": "stream",
     "text": [
      "\"0x9E55bAE2D4E5cf459adc5170ac6277C9749FF3cc\",\"0x1111\",\"3\",\"20 2-gil Hongji-dong Jongro-gu Seoul\"\n",
      "\"0x9E55bAE2D4E5cf459adc5170ac6277C9749FF3cc\",\"0x1111\",\"5\",\"20 2-gil Hongji-dong Jongro-gu Seoul\"\n",
      "\"0x9E55bAE2D4E5cf459adc5170ac6277C9749FF3cc\",\"0x1111\",\"20\",\"20 2-gil Hongji-dong Jongro-gu Seoul\"\n"
     ]
    }
   ],
   "source": [
    "!type OrderEvent.txt"
   ]
  },
  {
   "cell_type": "code",
   "execution_count": null,
   "metadata": {},
   "outputs": [],
   "source": []
  }
 ],
 "metadata": {
  "kernelspec": {
   "display_name": "Python 3",
   "language": "python",
   "name": "python3"
  },
  "language_info": {
   "codemirror_mode": {
    "name": "ipython",
    "version": 3
   },
   "file_extension": ".py",
   "mimetype": "text/x-python",
   "name": "python",
   "nbconvert_exporter": "python",
   "pygments_lexer": "ipython3",
   "version": "3.7.1"
  }
 },
 "nbformat": 4,
 "nbformat_minor": 2
}
