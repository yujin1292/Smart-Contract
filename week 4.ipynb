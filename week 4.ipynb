{
 "cells": [
  {
   "cell_type": "markdown",
   "metadata": {},
   "source": [
    "# 201710957 컴퓨터과학과 이유진\n",
    "\n",
    "## hash"
   ]
  },
  {
   "cell_type": "code",
   "execution_count": 20,
   "metadata": {},
   "outputs": [
    {
     "name": "stdout",
     "output_type": "stream",
     "text": [
      "<hash>\n",
      "#1\n",
      "orig :  The Japanese acted without the consent of his Majesty the Emperor of Korea.\n",
      "origHash :  1bb1de8e7722d2d8af05c6356c9f6f0846e7bc68d4ab1de49e4ffa994308769e\n",
      "\n",
      "#2\n",
      "fake :  The Japanese acted with the consent of his Majesty the Emperor of Korea.\n",
      "fakeHash :  bb2103f4a1230e5a1b198f845da9f32c7a82f8e730c88c220cebef677d7317a9\n",
      "\n",
      "#3\n",
      "number of bytes\n",
      "origHash :  32\n",
      "fakeHash :  32\n",
      "원본과 위조에서 구한 해시위 바이트 수의 차이는 없다.\n"
     ]
    }
   ],
   "source": [
    "import bitcoin\n",
    "print(\"<hash>\")\n",
    "orig =  \"The Japanese acted without the consent of his Majesty the Emperor of Korea.\"\n",
    "fake =  \"The Japanese acted with the consent of his Majesty the Emperor of Korea.\"\n",
    "\n",
    "origHash = bitcoin.sha256(orig)\n",
    "fakeHash = bitcoin.sha256(fake)\n",
    "print(\"#1\")\n",
    "print(\"orig : \", orig)\n",
    "print(\"origHash : \" ,origHash)\n",
    "\n",
    "print(\"\\n#2\")\n",
    "print(\"fake : \", fake)\n",
    "print(\"fakeHash : \" ,fakeHash)\n",
    "\n",
    "print(\"\\n#3\")\n",
    "print(\"number of bytes\")\n",
    "print(\"origHash : \", int(len(origHash)/2) ) \n",
    "print(\"fakeHash : \", int(len(fakeHash)/2) )\n",
    "print(\"원본과 위조에서 구한 해시위 바이트 수의 차이는 없다.\")\n"
   ]
  },
  {
   "cell_type": "markdown",
   "metadata": {},
   "source": [
    "## 인증"
   ]
  },
  {
   "cell_type": "code",
   "execution_count": 34,
   "metadata": {},
   "outputs": [
    {
     "name": "stdout",
     "output_type": "stream",
     "text": [
      "<인증>\n",
      "1번문장 \n",
      "signature :  Gw4pZciNhAU/dF30DFBWBy7uw6f9pCWTrc9R9m8QzrecAgL7LTyqeYM3kdWBlAFkjC/WtZIW1/9w33ddWULeTFM=\n",
      "verified  :  True\n",
      "\n",
      "2번문장 \n",
      "signature :  G9o0k+536gqNg1ulHzF1aLOMxzbaqpLqMT1hnP+TVTOlXkmjX9O4zr2HtXoNruvKpAP8vb23OnU65sLkFZk9WWw=\n",
      "verified  :  False\n"
     ]
    }
   ],
   "source": [
    "print(\"<인증>\")\n",
    "privKey = bitcoin.sha256(orig)\n",
    "pubKey =bitcoin.privtopub(privKey)\n",
    "addr = bitcoin.pubtoaddr(pubKey)\n",
    "\n",
    "print(\"1번문장 \")\n",
    "sig = bitcoin.ecdsa_sign(orig, privKey)\n",
    "print(\"signature : \", sig)\n",
    "print(\"verified  : \",bitcoin.ecdsa_verify(orig,sig,pubKey))\n",
    "\n",
    "\n",
    "print(\"\\n2번문장 \")\n",
    "sig2 =bitcoin.ecdsa_sign(fake, privKey)\n",
    "print(\"signature : \", sig2)\n",
    "print(\"verified  : \",bitcoin.ecdsa_verify(orig,sig2,pubKey))"
   ]
  },
  {
   "cell_type": "code",
   "execution_count": null,
   "metadata": {},
   "outputs": [],
   "source": []
  }
 ],
 "metadata": {
  "kernelspec": {
   "display_name": "Python 3",
   "language": "python",
   "name": "python3"
  },
  "language_info": {
   "codemirror_mode": {
    "name": "ipython",
    "version": 3
   },
   "file_extension": ".py",
   "mimetype": "text/x-python",
   "name": "python",
   "nbconvert_exporter": "python",
   "pygments_lexer": "ipython3",
   "version": "3.7.1"
  }
 },
 "nbformat": 4,
 "nbformat_minor": 2
}
