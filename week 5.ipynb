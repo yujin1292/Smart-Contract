{
 "cells": [
  {
   "cell_type": "markdown",
   "metadata": {},
   "source": [
    "# 201710957 Comp. sci. 이유진\n",
    "\n",
    "## week5\n"
   ]
  },
  {
   "cell_type": "markdown",
   "metadata": {},
   "source": [
    "### 연습문제 1\n",
    "\n",
    "다음 4건의 데이터에 대해 Merkle Root 값을 계산하고 출력하세요.\n",
    "\n",
    "중간 노드의 AB, CD의 해시도 출력하세요.\n",
    "\n",
    "* txA = 'Hello'\n",
    "\n",
    "* txB = 'How are you?'\n",
    "\n",
    "* txC = 'This is Thursday'\n",
    "\n",
    "* txD = 'Happy new Year'\n",
    "\n"
   ]
  },
  {
   "cell_type": "code",
   "execution_count": 38,
   "metadata": {
    "scrolled": true
   },
   "outputs": [
    {
     "name": "stdout",
     "output_type": "stream",
     "text": [
      "node AB의 hash 값 : a7dca36b1e6fe56e1d7bc34fe56ceea8ab64f47a55e929b712fab58885dcdc37\n",
      "node CD의 hash 값 : 15524f5c1b536c2fe0f717fd8b1bbede37f94654fae6f47c20521ce476c8e0b2\n",
      "   Merkle Root 값 : 00aa61af726d4cd0d5a5e0d2e3e3280552acb6d587c15413a713b7a96275cefc\n"
     ]
    }
   ],
   "source": [
    "import hashlib\n",
    "\n",
    "txA = 'Hello'.encode()\n",
    "txB = 'How are you?'.encode()\n",
    "txC = 'This is Thursday'.encode()\n",
    "txD = 'Happy new Year'.encode()\n",
    "\n",
    "\n",
    "hashA=hashlib.sha256(txA)\n",
    "hashB=hashlib.sha256(txB)\n",
    "hashC=hashlib.sha256(txC)\n",
    "hashD=hashlib.sha256(txD)\n",
    "\n",
    "hashAswap=\"\".join(reversed([hashA.hexdigest()[i:i+2] for i in range(0, hashA.digest_size*2, 2)]))\n",
    "hashBswap=\"\".join(reversed([hashB.hexdigest()[i:i+2] for i in range(0, hashB.digest_size*2, 2)]))\n",
    "hashAB=hashAswap+hashBswap\n",
    "doubleHashAB=hashlib.sha256(hashAB.encode())\n",
    "print(\"node AB의 hash 값 : \"+doubleHashAB.hexdigest())\n",
    "\n",
    "hashCswap=\"\".join(reversed([hashC.hexdigest()[i:i+2] for i in range(0, hashC.digest_size*2, 2)]))\n",
    "hashDswap=\"\".join(reversed([hashD.hexdigest()[i:i+2] for i in range(0, hashD.digest_size*2, 2)]))\n",
    "hashCD=hashCswap+hashDswap\n",
    "doubleHashCD=hashlib.sha256(hashCD.encode())\n",
    "print(\"node CD의 hash 값 : \"+doubleHashCD.hexdigest())\n",
    "\n",
    "hashABswap=\"\".join(reversed([doubleHashAB.hexdigest()[i:i+2] for i in range(0, doubleHashAB.digest_size*2, 2)]))\n",
    "hashCDswap=\"\".join(reversed([doubleHashCD.hexdigest()[i:i+2] for i in range(0, doubleHashCD.digest_size*2, 2)]))\n",
    "hashABCD = hashABswap + hashCDswap\n",
    "doubleHashABCD=hashlib.sha256(hashABCD.encode()).hexdigest()\n",
    "\n",
    "print(\"   Merkle Root 값 : \"+doubleHashABCD)"
   ]
  },
  {
   "cell_type": "markdown",
   "metadata": {},
   "source": [
    "\n",
    "### 연습문제 2\n",
    "\n",
    "친구에게  주소를 구하고, 그 주소로 송금해 보자. 송금이 되지 않으면 왜 안되는지 이유를 알아보자.\n",
    "\n",
    "안되면 친구의 주소를 만들고 전송한다.\n",
    "\n",
    "잔고의 증가분을 출력하세요.\n",
    "\n",
    "소요된 gas비용 출력하세요.\n",
    "\n"
   ]
  },
  {
   "cell_type": "code",
   "execution_count": 1,
   "metadata": {},
   "outputs": [
    {
     "name": "stdout",
     "output_type": "stream",
     "text": [
      "350000000000000000000\n"
     ]
    }
   ],
   "source": [
    "!geth --exec \"eth.getBalance(eth.accounts[0])\" attach http://localhost:8445"
   ]
  },
  {
   "cell_type": "code",
   "execution_count": 2,
   "metadata": {},
   "outputs": [
    {
     "name": "stdout",
     "output_type": "stream",
     "text": [
      "\"0xba4c73c94f3461e84dc7cbd53b81e19a6a1917163b6b6f611b69ba90ee541e57\"\n"
     ]
    }
   ],
   "source": [
    "!geth --exec \"eth.sendTransaction({from:eth.accounts[0], to:eth.accounts[1] ,value:10000})\" attach http://localhost:8445 "
   ]
  },
  {
   "cell_type": "code",
   "execution_count": 3,
   "metadata": {},
   "outputs": [
    {
     "name": "stdout",
     "output_type": "stream",
     "text": [
      "350000000000000000000\n"
     ]
    }
   ],
   "source": [
    "!geth --exec \"eth.getBalance(eth.accounts[0])\" attach http://localhost:8445"
   ]
  },
  {
   "cell_type": "code",
   "execution_count": 33,
   "metadata": {},
   "outputs": [
    {
     "name": "stdout",
     "output_type": "stream",
     "text": [
      "Overwriting e_testTran.js\n"
     ]
    }
   ],
   "source": [
    "%%writefile e_testTran.js\n",
    "miner.setEtherbase(eth.accounts[0]);\n",
    "console.log('coinbase: ', eth.coinbase);\n",
    "var bal1=eth.getBalance(eth.coinbase);\n",
    "var bal2=eth.getBalance(eth.accounts[1]);\n",
    "\n",
    "\n",
    "console.log('\\nsender balance in ether: ', web3.fromWei(bal1,\"ether\"));\n",
    "var wei2 = web3.fromWei(bal2,\"ether\")\n",
    "console.log('receiver balance in ether: ', web3.fromWei(bal2,\"ether\"));\n",
    "\n",
    "console.log('median gas price: ', eth.gasPrice);\n",
    "console.log('block number: ', eth.blockNumber);\n",
    "console.log('tranaction count: ', eth.getTransactionCount(eth.coinbase));\n",
    "eth.sendTransaction({from:eth.coinbase, to:eth.accounts[1],value:10000});\n",
    "\n",
    "\n",
    "\n",
    "var bal1new=eth.getBalance(eth.coinbase);\n",
    "var bal2new=eth.getBalance(eth.accounts[1]);\n",
    "console.log('- new sender balance in ether: ', web3.fromWei(bal1new,\"ether\"));\n",
    "\n",
    "var wei2new =  web3.fromWei(bal2new,\"ether\")\n",
    "console.log('- new receiver balance in ether: ', web3.fromWei(bal2new,\"ether\"));\n",
    "console.log('- block number: ', eth.blockNumber);\n",
    "console.log('- tranaction count: ', eth.getTransactionCount(eth.coinbase))\n",
    "\n",
    "\n",
    "console.log('\\n2-1 : ' + ( wei2new - wei2 ) )\n",
    "console.log('2-2 : ' + eth.gasPrice )\n",
    "console.log()"
   ]
  },
  {
   "cell_type": "code",
   "execution_count": 1,
   "metadata": {},
   "outputs": [
    {
     "name": "stdout",
     "output_type": "stream",
     "text": [
      "coinbase:  0x478e5deacb2c8b60452f7d9822e50643bb78c1d3\n",
      "\n",
      "sender balance in ether:  350\n",
      "receiver balance in ether:  130\n",
      "median gas price:  1000000000\n",
      "block number:  125\n",
      "tranaction count:  0\n",
      "- new sender balance in ether:  350\n",
      "- new receiver balance in ether:  130\n",
      "- block number:  125\n",
      "- tranaction count:  0\n",
      "\n",
      "2-1 : 0\n",
      "2-2 : 1000000000\n",
      "\n",
      "true\n"
     ]
    }
   ],
   "source": [
    "!geth --exec \"loadScript('e_testTran.js')\" attach http://localhost:8445"
   ]
  },
  {
   "cell_type": "markdown",
   "metadata": {},
   "source": [
    "잔고의 증가분(2-1) 은 0 이다. 송금을 했음에도 불구하고 잔고가 증가하지않았다."
   ]
  },
  {
   "cell_type": "code",
   "execution_count": null,
   "metadata": {},
   "outputs": [],
   "source": []
  },
  {
   "cell_type": "markdown",
   "metadata": {},
   "source": [
    "### 연습문제 3\n",
    "\n",
    "해시는 100미만의 양수로 정해진다고 하자.\n",
    "\n",
    "NONCE는 반복회수로만 쓰이고 무작위 수를 생성하는데 입력되지는 않는다.\n",
    "\n",
    "목표해시는 난이도에 따라 결정이 된다고 하자.\n",
    "\n",
    "마이닝을 해서, 목표 해시를 찾아보자.\n",
    "\n",
    "- 90을 목표해시로 정하고 몇 회만에 마이닝에 성공하는지 출력\n",
    "\n",
    "- 10을 목표해시로 정하고 몇 회만에 마이닝에 성공하는지 출력\n",
    "\n"
   ]
  },
  {
   "cell_type": "code",
   "execution_count": 53,
   "metadata": {},
   "outputs": [
    {
     "name": "stdout",
     "output_type": "stream",
     "text": [
      "90a2efc023e8445d7272b5fe2b4902deb9f789badec4e83e33f815826eaf3486\n",
      "23\n",
      "---------------------------\n",
      "103cd851bf325328103e7d92b02811ddc103c9114c2084cd21efd1fb9767b796\n",
      "188\n"
     ]
    }
   ],
   "source": [
    "import hashlib\n",
    "count = 0\n",
    "ntry=1\n",
    "found=False\n",
    "blockNumber=54 # hex\n",
    "NONCE=0\n",
    "data='Hello'\n",
    "previousHash='5d7c7ba21cbbcd75d14800b100252d5b428e5b1213d27c385bc141ca6b47989e'\n",
    "while found==False:\n",
    "    z=str(blockNumber)+str(NONCE)+data+previousHash\n",
    "    guessHash=hashlib.sha256(z.encode('utf-8')).hexdigest()\n",
    "    \n",
    "    if guessHash[:2]=='90':\n",
    "        found=True\n",
    "        \n",
    "    NONCE+=1\n",
    "  \n",
    "    \n",
    "    \n",
    "print(guessHash)\n",
    "print(NONCE)\n",
    "print(\"---------------------------\")\n",
    "\n",
    "NONCE = 0\n",
    "found = False\n",
    "while found==False:\n",
    "    z=str(blockNumber)+str(NONCE)+data+previousHash\n",
    "    guessHash=hashlib.sha256(z.encode('utf-8')).hexdigest()\n",
    "    if guessHash[:2]=='10':\n",
    "        found=True\n",
    "    NONCE+=1\n",
    "    \n",
    "  \n",
    "\n",
    "print(guessHash)\n",
    "print(NONCE)"
   ]
  },
  {
   "cell_type": "code",
   "execution_count": null,
   "metadata": {},
   "outputs": [],
   "source": []
  }
 ],
 "metadata": {
  "kernelspec": {
   "display_name": "Python 3",
   "language": "python",
   "name": "python3"
  },
  "language_info": {
   "codemirror_mode": {
    "name": "ipython",
    "version": 3
   },
   "file_extension": ".py",
   "mimetype": "text/x-python",
   "name": "python",
   "nbconvert_exporter": "python",
   "pygments_lexer": "ipython3",
   "version": "3.7.1"
  }
 },
 "nbformat": 4,
 "nbformat_minor": 2
}
