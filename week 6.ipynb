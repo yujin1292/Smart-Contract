{
 "cells": [
  {
   "cell_type": "markdown",
   "metadata": {},
   "source": [
    "## 문제1\n",
    "\n",
    "\n",
    "* ganache-cli를 백그라운드로 띄우고, node에서 연결하여, coinbase주소를 출력하세요.\n",
    "\n",
    "* 위 문제를 geth를 띄우고 실행해보세요. geth에서의 coinbase를 출력하세요.\n",
    "\n",
    "* ganache-cli의 coinbase에서 geth의 coinbase로 1 ether를 송금해 보세요. 송금 성공이면 잔고변화를 출력하고, 실패이면 그 이유를 간단히 설명하세요.\n",
    "\n",
    "\n"
   ]
  },
  {
   "cell_type": "markdown",
   "metadata": {},
   "source": [
    "#### ganache-cli를 백그라운드로 띄우고, node에서 연결하여, coinbase주소를 출력하세요."
   ]
  },
  {
   "cell_type": "code",
   "execution_count": 2,
   "metadata": {},
   "outputs": [
    {
     "name": "stdout",
     "output_type": "stream",
     "text": [
      "Overwriting C:\\Users\\sofod\\Code\\201710957\\src\\week6_1_1.js\n"
     ]
    }
   ],
   "source": [
    "%%writefile C:\\Users\\sofod\\Code\\201710957\\src\\week6_1_1.js\n",
    "var Web3 = require('web3');\n",
    "var web3 = new Web3('http://127.0.0.1:8345');\n",
    "\n",
    "web3.eth.getCoinbase(function(err,res){console.log(\"coinbase:\"+ res)});\n"
   ]
  },
  {
   "cell_type": "code",
   "execution_count": 3,
   "metadata": {},
   "outputs": [
    {
     "name": "stdout",
     "output_type": "stream",
     "text": [
      "coinbase:0x451492b74a57efe800f12111c7c8b5bda288c266\n"
     ]
    }
   ],
   "source": [
    "!node C:\\Users\\sofod\\Code\\201710957\\src\\week6_1_1.js"
   ]
  },
  {
   "cell_type": "markdown",
   "metadata": {},
   "source": [
    "#### 위 문제를 geth를 띄우고 실행해보세요. geth에서의 coinbase를 출력하세요."
   ]
  },
  {
   "cell_type": "code",
   "execution_count": 4,
   "metadata": {},
   "outputs": [
    {
     "name": "stdout",
     "output_type": "stream",
     "text": [
      "\"0x478e5deacb2c8b60452f7d9822e50643bb78c1d3\"\n"
     ]
    }
   ],
   "source": [
    "!geth --exec \"eth.coinbase\" attach http://localhost:8445"
   ]
  },
  {
   "cell_type": "markdown",
   "metadata": {},
   "source": [
    "#### ganache-cli의 coinbase에서 geth의 coinbase로 1 ether를 송금해 보세요. 송금 성공이면 잔고변화를 출력하고, 실패이면 그 이유를 간단히 설명하세요."
   ]
  },
  {
   "cell_type": "code",
   "execution_count": 7,
   "metadata": {},
   "outputs": [
    {
     "name": "stdout",
     "output_type": "stream",
     "text": [
      "Overwriting C:\\Users\\sofod\\Code\\201710957\\src\\week6_1_2.js\n"
     ]
    }
   ],
   "source": [
    "%%writefile C:\\Users\\sofod\\Code\\201710957\\src\\week6_1_2.js\n",
    "var Web3 = require('web3');\n",
    "var web3 = new Web3('http://127.0.0.1:8345');\n",
    "\n",
    "var ether = 1000000000000000000\n",
    "var gethCoinbase = \"0x478e5deacb2c8b60452f7d9822e50643bb78c1d3\"\n",
    "var ganacheCoinbase = \"0x451492b74a57efe800f12111c7c8b5bda288c266\"\n",
    "\n",
    "\n",
    "web3.eth.getBalance(ganacheCoinbase).then(function(res,err){console.log(\"before :\"+ res/ether)})\n",
    "\n",
    "web3.eth.sendTransaction({from: ganacheCoinbase, to: gethCoinbase ,value: ether});"
   ]
  },
  {
   "cell_type": "code",
   "execution_count": 8,
   "metadata": {
    "scrolled": true
   },
   "outputs": [
    {
     "name": "stdout",
     "output_type": "stream",
     "text": [
      "before :100\n"
     ]
    }
   ],
   "source": [
    "!node C:\\Users\\sofod\\Code\\201710957\\src\\week6_1_2.js"
   ]
  },
  {
   "cell_type": "code",
   "execution_count": 9,
   "metadata": {},
   "outputs": [
    {
     "name": "stdout",
     "output_type": "stream",
     "text": [
      "Overwriting C:\\Users\\sofod\\Code\\201710957\\src\\week6_1_3.js\n"
     ]
    }
   ],
   "source": [
    "%%writefile C:\\Users\\sofod\\Code\\201710957\\src\\week6_1_3.js\n",
    "var Web3 = require('web3');\n",
    "var web3 = new Web3('http://127.0.0.1:8345');\n",
    "var ganacheCoinbase = \"0x451492b74a57efe800f12111c7c8b5bda288c266\"\n",
    "var ether = 1000000000000000000\n",
    "web3.eth.getBalance(ganacheCoinbase).then(function(res,err){console.log(\"after:\"+ res/ether)})\n"
   ]
  },
  {
   "cell_type": "code",
   "execution_count": 10,
   "metadata": {},
   "outputs": [
    {
     "name": "stdout",
     "output_type": "stream",
     "text": [
      "after:98.99958\n"
     ]
    }
   ],
   "source": [
    "!node C:\\Users\\sofod\\Code\\201710957\\src\\week6_1_3.js"
   ]
  },
  {
   "cell_type": "markdown",
   "metadata": {},
   "source": [
    "송금 전은 87.99496 ehter이고, 1 ether 송금후 잔액은 86.99454 ehter이다.\n",
    "1 ether을 송금했지만, gas비용 때문에 정확히 1ether줄어들지 않았다.\n"
   ]
  },
  {
   "cell_type": "markdown",
   "metadata": {},
   "source": []
  },
  {
   "cell_type": "markdown",
   "metadata": {},
   "source": [
    "\n",
    "## 문제 2\n",
    "\n",
    "* ganache-cli에 연결하고, 현재 coinbase의 잔고를 ether로 출력하세요.\n",
    "\n",
    "* 현재 거래소 환전가격을 구해서 한화로 계산하여 얼마인지 출력하세요."
   ]
  },
  {
   "cell_type": "code",
   "execution_count": 11,
   "metadata": {},
   "outputs": [
    {
     "name": "stdout",
     "output_type": "stream",
     "text": [
      "Overwriting C:\\Users\\sofod\\Code\\201710957\\src\\week6_2.js\n"
     ]
    }
   ],
   "source": [
    "%%writefile C:\\Users\\sofod\\Code\\201710957\\src\\week6_2.js\n",
    "var Web3 = require('web3');\n",
    "var web3 = new Web3('http://127.0.0.1:8345');\n",
    "\n",
    "var ganacheCoinbase = \"0x451492b74a57efe800f12111c7c8b5bda288c266\"\n",
    "var ether = 1000000000000000000\n",
    "web3.eth.getBalance(ganacheCoinbase).then(function(res,err){console.log(\"balance :\"+ res/ether)})\n",
    "web3.eth.getBalance(ganacheCoinbase).then(function(res,err){console.log(\"KRW :\"+ res/ether*229000)})\n"
   ]
  },
  {
   "cell_type": "code",
   "execution_count": 12,
   "metadata": {},
   "outputs": [
    {
     "name": "stdout",
     "output_type": "stream",
     "text": [
      "balance :98.99958\n",
      "KRW :22670903.82\n"
     ]
    }
   ],
   "source": [
    "!node  C:\\Users\\sofod\\Code\\201710957\\src\\week6_2.js"
   ]
  },
  {
   "cell_type": "markdown",
   "metadata": {},
   "source": [
    "현재 환율은 1ether = 229000 KRW 이므로 ganache-cli의 coinbase의 잔고와 한화로 변환된 금액은 위와같다"
   ]
  },
  {
   "cell_type": "code",
   "execution_count": null,
   "metadata": {},
   "outputs": [],
   "source": []
  },
  {
   "cell_type": "code",
   "execution_count": 13,
   "metadata": {},
   "outputs": [
    {
     "name": "stdout",
     "output_type": "stream",
     "text": [
      "425999999909999800000\n"
     ]
    }
   ],
   "source": [
    "!geth --exec \"eth.getBalance(eth.coinbase)\" attach http://localhost:8445"
   ]
  },
  {
   "cell_type": "code",
   "execution_count": null,
   "metadata": {},
   "outputs": [],
   "source": []
  }
 ],
 "metadata": {
  "kernelspec": {
   "display_name": "Python 3",
   "language": "python",
   "name": "python3"
  },
  "language_info": {
   "codemirror_mode": {
    "name": "ipython",
    "version": 3
   },
   "file_extension": ".py",
   "mimetype": "text/x-python",
   "name": "python",
   "nbconvert_exporter": "python",
   "pygments_lexer": "ipython3",
   "version": "3.7.1"
  }
 },
 "nbformat": 4,
 "nbformat_minor": 2
}
