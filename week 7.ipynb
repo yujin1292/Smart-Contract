{
 "cells": [
  {
   "cell_type": "markdown",
   "metadata": {},
   "source": [
    "## 201710957 Comp. sci. 이유진\n",
    "## 7주 과제\n"
   ]
  },
  {
   "cell_type": "markdown",
   "metadata": {},
   "source": [
    "Hello 컨트랙을 수정해서 sayHello() 함수를 호출하면 \"Hello, Snowman\"이 출력되도록 하세요.\n",
    "\n",
    "\n",
    "\n",
    "- Solidity로 Hello.sol을 코딩하고\n",
    "\n",
    "- solc로 컴파일하고\n",
    "\n",
    "- web3.js를 사용하여 node로 프로그램해서 배포\n",
    "\n",
    "- web3.js를 사용하여 node로 sayHello() 출력\n",
    "\n"
   ]
  },
  {
   "cell_type": "markdown",
   "metadata": {},
   "source": [
    "## 1) Solidity 코딩"
   ]
  },
  {
   "cell_type": "code",
   "execution_count": 16,
   "metadata": {},
   "outputs": [
    {
     "name": "stdout",
     "output_type": "stream",
     "text": [
      "Overwriting C:\\Users\\sofod\\Code\\201710957\\src\\Hello2.sol\n"
     ]
    }
   ],
   "source": [
    "%%writefile C:\\Users\\sofod\\Code\\201710957\\src\\Hello2.sol\n",
    "pragma solidity 0.4.25;\n",
    "\n",
    "contract Hello{\n",
    "    function sayHello() pure public returns(string memory){\n",
    "        return \"Hello, Snowman\";\n",
    "    }\n",
    "}"
   ]
  },
  {
   "cell_type": "markdown",
   "metadata": {},
   "source": [
    "## 2) Solc를 이용하여 컴파일"
   ]
  },
  {
   "cell_type": "code",
   "execution_count": 17,
   "metadata": {},
   "outputs": [
    {
     "name": "stdout",
     "output_type": "stream",
     "text": [
      "\n",
      "======= C:\\Users\\sofod\\Code\\201710957\\src\\Hello2.sol:Hello =======\n",
      "Gas estimation:\n",
      "construction:\n",
      "   111 + 63800 = 63911\n",
      "external:\n",
      "   sayHello():\tinfinite\n",
      "Binary: \n",
      "608060405234801561001057600080fd5b5061013f806100206000396000f300608060405260043610610041576000357c0100000000000000000000000000000000000000000000000000000000900463ffffffff168063ef5fb05b14610046575b600080fd5b34801561005257600080fd5b5061005b6100d6565b6040518080602001828103825283818151815260200191508051906020019080838360005b8381101561009b578082015181840152602081019050610080565b50505050905090810190601f1680156100c85780820380516001836020036101000a031916815260200191505b509250505060405180910390f35b60606040805190810160405280600e81526020017f48656c6c6f2c20536e6f776d616e0000000000000000000000000000000000008152509050905600a165627a7a723058206d5f861af9dab943e0f3b8c95a86eb2af0354aa31bf3e92f8e3aa64096c1f3a40029\n",
      "Contract JSON ABI \n",
      "[{\"constant\":true,\"inputs\":[],\"name\":\"sayHello\",\"outputs\":[{\"name\":\"\",\"type\":\"string\"}],\"payable\":false,\"stateMutability\":\"pure\",\"type\":\"function\"}]\n"
     ]
    }
   ],
   "source": [
    "!solc --abi --bin --gas C:\\Users\\sofod\\Code\\201710957\\src\\Hello2.sol"
   ]
  },
  {
   "cell_type": "markdown",
   "metadata": {},
   "source": [
    "## 3) node 를 이용한 배포"
   ]
  },
  {
   "cell_type": "code",
   "execution_count": 18,
   "metadata": {},
   "outputs": [
    {
     "name": "stdout",
     "output_type": "stream",
     "text": [
      "Overwriting C:\\Users\\sofod\\Code\\201710957\\src\\HelloDeploy_week7.js\n"
     ]
    }
   ],
   "source": [
    "%%writefile C:\\Users\\sofod\\Code\\201710957\\src\\HelloDeploy_week7.js\n",
    "var Web3=require('web3');\n",
    "var web3 = new Web3(new Web3.providers.HttpProvider(\"http://localhost:8445\"));\n",
    "var shelloContract = new web3.eth.Contract([{\"constant\":true,\"inputs\":[],\"name\":\"sayHello\",\"outputs\":[{\"name\":\"\",\"type\":\"string\"}],\"payable\":false,\"stateMutability\":\"pure\",\"type\":\"function\"}]);\n",
    "\n",
    "\n",
    "shelloContract\n",
    "    .deploy({\n",
    "            data: '0x608060405234801561001057600080fd5b5061013f806100206000396000f300608060405260043610610041576000357c0100000000000000000000000000000000000000000000000000000000900463ffffffff168063ef5fb05b14610046575b600080fd5b34801561005257600080fd5b5061005b6100d6565b6040518080602001828103825283818151815260200191508051906020019080838360005b8381101561009b578082015181840152602081019050610080565b50505050905090810190601f1680156100c85780820380516001836020036101000a031916815260200191505b509250505060405180910390f35b60606040805190810160405280600e81526020017f48656c6c6f2c20536e6f776d616e0000000000000000000000000000000000008152509050905600a165627a7a723058206d5f861af9dab943e0f3b8c95a86eb2af0354aa31bf3e92f8e3aa64096c1f3a40029', \n",
    "    })\n",
    "    .send({\n",
    "     from: \"0x478e5deacb2c8b60452f7d9822e50643bb78c1d3\",\n",
    "     gas: '4700000'\n",
    "    }, function (error, transactionHash){ \n",
    "            console.log(\"error :\" + error);\n",
    "            console.log(\"hash : \" + transactionHash); \n",
    "    })\n",
    "    .then(function(newContractInstance){\n",
    "        console.log(\"address : \" + newContractInstance.options.address)\n",
    "    });"
   ]
  },
  {
   "cell_type": "code",
   "execution_count": 19,
   "metadata": {},
   "outputs": [
    {
     "name": "stdout",
     "output_type": "stream",
     "text": [
      "error :null\n",
      "hash : 0x4d5370063852bd7c86032a14246d672a499841d49e26e3f5a2e9f594a0e03d9f\n",
      "address : 0x96a4495BB3581AFF81d10A91F322f92DeeEEe532\n"
     ]
    }
   ],
   "source": [
    "!node C:\\Users\\sofod\\Code\\201710957\\src\\HelloDeploy_week7.js"
   ]
  },
  {
   "cell_type": "markdown",
   "metadata": {},
   "source": [
    "## 4) API 사용 contractAddress 호출하여 사용"
   ]
  },
  {
   "cell_type": "markdown",
   "metadata": {},
   "source": [
    " "
   ]
  },
  {
   "cell_type": "code",
   "execution_count": 20,
   "metadata": {},
   "outputs": [
    {
     "name": "stdout",
     "output_type": "stream",
     "text": [
      "Overwriting C:\\Users\\sofod\\Code\\201710957\\src\\HelloUse_week7.js\n"
     ]
    }
   ],
   "source": [
    "%%writefile  C:\\Users\\sofod\\Code\\201710957\\src\\HelloUse_week7.js\n",
    "var Web3=require('web3');\n",
    "var web3 = new Web3(new Web3.providers.HttpProvider(\"http://localhost:8445\"));\n",
    "\n",
    "var abi =   [{\"inputs\":[],\"name\":\"sayHello\",\"outputs\":[{\"internalType\":\"string\",\"name\":\"\",\"type\":\"string\"}],\"stateMutability\":\"pure\",\"type\":\"function\"}] ;\n",
    "var addr = \"0x96a4495BB3581AFF81d10A91F322f92DeeEEe532\";\n",
    "\n",
    "var shelloContract = new web3.eth.Contract(abi,addr);\n",
    "shelloContract.methods.sayHello().call().then(function(str) {console.log(str);} );\n",
    "\n"
   ]
  },
  {
   "cell_type": "code",
   "execution_count": 21,
   "metadata": {
    "scrolled": true
   },
   "outputs": [
    {
     "name": "stdout",
     "output_type": "stream",
     "text": [
      "Hello, Snowman\n"
     ]
    }
   ],
   "source": [
    "!node C:\\Users\\sofod\\Code\\201710957\\src\\HelloUse_week7.js"
   ]
  },
  {
   "cell_type": "code",
   "execution_count": null,
   "metadata": {},
   "outputs": [],
   "source": []
  }
 ],
 "metadata": {
  "kernelspec": {
   "display_name": "Python 3",
   "language": "python",
   "name": "python3"
  },
  "language_info": {
   "codemirror_mode": {
    "name": "ipython",
    "version": 3
   },
   "file_extension": ".py",
   "mimetype": "text/x-python",
   "name": "python",
   "nbconvert_exporter": "python",
   "pygments_lexer": "ipython3",
   "version": "3.7.1"
  }
 },
 "nbformat": 4,
 "nbformat_minor": 2
}
